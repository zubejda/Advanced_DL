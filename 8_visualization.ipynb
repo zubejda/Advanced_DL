{
  "cells": [
    {
      "cell_type": "markdown",
      "metadata": {
        "id": "view-in-github",
        "colab_type": "text"
      },
      "source": [
        "<a href=\"https://colab.research.google.com/github/zubejda/Advanced_DL/blob/main/8_visualization.ipynb\" target=\"_parent\"><img src=\"https://colab.research.google.com/assets/colab-badge.svg\" alt=\"Open In Colab\"/></a>"
      ]
    },
    {
      "cell_type": "markdown",
      "id": "99d83566",
      "metadata": {
        "pycharm": {
          "name": "#%% md\n"
        },
        "id": "99d83566"
      },
      "source": [
        "Fill in your github username and idm credentials below:"
      ]
    },
    {
      "cell_type": "code",
      "execution_count": 1,
      "id": "057c5d23",
      "metadata": {
        "pycharm": {
          "is_executing": true,
          "name": "#%%\n"
        },
        "vscode": {
          "languageId": "python"
        },
        "id": "057c5d23"
      },
      "outputs": [],
      "source": [
        "github_username = \"zubejda\"\n",
        "idm_credentials = \"fy56zemu\""
      ]
    },
    {
      "cell_type": "markdown",
      "id": "e86333d9",
      "metadata": {
        "pycharm": {
          "name": "#%% md\n"
        },
        "id": "e86333d9"
      },
      "source": [
        "---"
      ]
    },
    {
      "cell_type": "markdown",
      "id": "755c6140-79ab-496f-9e79-71972edca5bc",
      "metadata": {
        "pycharm": {
          "name": "#%% md\n"
        },
        "id": "755c6140-79ab-496f-9e79-71972edca5bc"
      },
      "source": [
        "# **Applied Data Science in Medicine & Psychology - Assignment 8**\n",
        "## Visualization\n",
        "---\n",
        "**Deadline: 02.07.2024, 23:59**\n",
        "### **General Setup and Submission**\n",
        "1. Save an editable copy of this notebook to your Google Drive ``File`` $\\rightarrow$ ``Save a copy in Drive`` and remove the automatically appended \"Copy of\" text. **Do not change the original file name**.\n",
        "2. Work on the assignment in the *copied* version of the notebook. Make sure that you **replace** all parts of the tasks indicated with *YOUR CODE HERE* and **raise NotImplementedError()** (otherwise this causes an error in your implementation) or *YOUR ANSWER HERE* with your solution.\n",
        "3. If you take a break during the implementation, you can save the current status of your work in your repository following the submission instructions below. When you continue working on the assignment, do this in the version of the notebook that you saved in your Google Drive (access from your Google Colab account) or your repository.\n",
        "4. After finishing the assignment submit your assignment as follows:\n",
        "    * Check that everything runs as expected. To do that select in the menubar ``Runtime`` $\\rightarrow$ ``Restart and run all``. This will clear all your local variables and runs your notebook from the beginning.\n",
        "    * Save your notebook, click ``File`` $\\rightarrow$ ``Save``\n",
        "    * Click ``File`` $\\rightarrow$ ``Save a copy in GitHub``\n",
        "    * Select ``digikolleg-data-science-psychology/8-visualization-<username>`` from the repository drop-down menu\n",
        "    * Type ``8_visualization.ipynb`` into the file path text box\n",
        "    * Optionally, you may enter a description into the \"Commit message\" text box (like: \"solved task 1\" or \"ready for grading\")\n",
        "    * Make sure that the \"Include a link to Colaboratory\" box is checked\n",
        "    * Press \"Ok\"\n",
        "    * A new tab or window should open up, displaying your submitted notebook within your GitHub repository\n",
        "\n",
        "Before the assignment deadline, you can re-submit your assignment as often as you would like. This will update your assignment file in your assignment's repository."
      ]
    },
    {
      "cell_type": "markdown",
      "id": "2fe61c2c-a030-4c02-8214-7db7d1c10df5",
      "metadata": {
        "id": "2fe61c2c-a030-4c02-8214-7db7d1c10df5"
      },
      "source": [
        "### **Assignment Description**\n",
        "In this assignment, you will dive into visualization using ``Matplotlib`` which is a library for creating static, animated, and interactive visualizations in Python. Visualization in data analysis is crucial because it allows us to understand and communicate complex information more effectively.\n",
        "#### **Assignment Goals**\n",
        "You are going to learn the following things in this assignment:\n",
        "1. how to create figures using matplotlib\n",
        "2. how to create different types of plots\n",
        "3. how to create multiple plots in the same figure\n",
        "4. how to add descriptive information to a figure\n",
        "5. how to enhance the appearance of data\n",
        "6. how to increase the comparability of data\n",
        "\n",
        "#### **Assignment Point Value**\n",
        "This assignment is worth a total (up to) **11** points. If your code passes all of the manual and automatic tests you will receive full credit."
      ]
    },
    {
      "cell_type": "markdown",
      "id": "89d2a637-e274-43a8-a88a-23bb204e96db",
      "metadata": {
        "id": "89d2a637-e274-43a8-a88a-23bb204e96db"
      },
      "source": [
        "### **Tasks**\n",
        "Make sure that you now work on your *copied* version of this assignment's notebook."
      ]
    },
    {
      "cell_type": "markdown",
      "id": "42e90337-1130-4412-b037-d1267bc45101",
      "metadata": {
        "id": "42e90337-1130-4412-b037-d1267bc45101"
      },
      "source": [
        "#### 0. Imports and Setup\n",
        "Please **run** the cell below to import the libraries needed for this assignment."
      ]
    },
    {
      "cell_type": "code",
      "execution_count": 2,
      "id": "23f1cef0-5d30-4548-b6b6-4020b3013f8c",
      "metadata": {
        "id": "23f1cef0-5d30-4548-b6b6-4020b3013f8c",
        "colab": {
          "base_uri": "https://localhost:8080/"
        },
        "outputId": "8fe6bafb-60d5-4d43-c3ea-bae602918a5e"
      },
      "outputs": [
        {
          "output_type": "stream",
          "name": "stdout",
          "text": [
            "Collecting biopsykit\n",
            "  Downloading biopsykit-0.10.0-py3-none-any.whl (284 kB)\n",
            "\u001b[2K     \u001b[90m━━━━━━━━━━━━━━━━━━━━━━━━━━━━━━━━━━━━━━━━\u001b[0m \u001b[32m284.4/284.4 kB\u001b[0m \u001b[31m3.3 MB/s\u001b[0m eta \u001b[36m0:00:00\u001b[0m\n",
            "\u001b[?25hCollecting XlsxWriter<2,>=1 (from biopsykit)\n",
            "  Downloading XlsxWriter-1.4.5-py2.py3-none-any.whl (149 kB)\n",
            "\u001b[2K     \u001b[90m━━━━━━━━━━━━━━━━━━━━━━━━━━━━━━━━━━━━━━━━\u001b[0m \u001b[32m149.7/149.7 kB\u001b[0m \u001b[31m3.0 MB/s\u001b[0m eta \u001b[36m0:00:00\u001b[0m\n",
            "\u001b[?25hCollecting bioread<4,>=3 (from biopsykit)\n",
            "  Downloading bioread-3.0.1-py3-none-any.whl (54 kB)\n",
            "\u001b[2K     \u001b[90m━━━━━━━━━━━━━━━━━━━━━━━━━━━━━━━━━━━━━━━━\u001b[0m \u001b[32m54.3/54.3 kB\u001b[0m \u001b[31m2.1 MB/s\u001b[0m eta \u001b[36m0:00:00\u001b[0m\n",
            "\u001b[?25hCollecting fau-colors<2.0,>=1.1 (from biopsykit)\n",
            "  Downloading fau_colors-1.7.0-py3-none-any.whl (9.0 kB)\n",
            "Requirement already satisfied: joblib<2,>=1 in /usr/local/lib/python3.10/dist-packages (from biopsykit) (1.4.2)\n",
            "Requirement already satisfied: matplotlib<4.0,>=3.4 in /usr/local/lib/python3.10/dist-packages (from biopsykit) (3.7.1)\n",
            "Collecting neurokit2<1,>=0 (from biopsykit)\n",
            "  Downloading neurokit2-0.2.9-py2.py3-none-any.whl (689 kB)\n",
            "\u001b[2K     \u001b[90m━━━━━━━━━━━━━━━━━━━━━━━━━━━━━━━━━━━━━━━━\u001b[0m \u001b[32m689.2/689.2 kB\u001b[0m \u001b[31m10.9 MB/s\u001b[0m eta \u001b[36m0:00:00\u001b[0m\n",
            "\u001b[?25hCollecting nilspodlib>=3.4.1 (from biopsykit)\n",
            "  Downloading nilspodlib-3.6.0-py3-none-any.whl (38 kB)\n",
            "Requirement already satisfied: numpy<2,>=1 in /usr/local/lib/python3.10/dist-packages (from biopsykit) (1.25.2)\n",
            "Requirement already satisfied: openpyxl<4,>=3 in /usr/local/lib/python3.10/dist-packages (from biopsykit) (3.1.4)\n",
            "Collecting pandas<2,>=1 (from biopsykit)\n",
            "  Downloading pandas-1.5.3-cp310-cp310-manylinux_2_17_x86_64.manylinux2014_x86_64.whl (12.1 MB)\n",
            "\u001b[2K     \u001b[90m━━━━━━━━━━━━━━━━━━━━━━━━━━━━━━━━━━━━━━━━\u001b[0m \u001b[32m12.1/12.1 MB\u001b[0m \u001b[31m15.6 MB/s\u001b[0m eta \u001b[36m0:00:00\u001b[0m\n",
            "\u001b[?25hCollecting pingouin<0.6.0,>=0.5.2 (from biopsykit)\n",
            "  Downloading pingouin-0.5.4-py2.py3-none-any.whl (198 kB)\n",
            "\u001b[2K     \u001b[90m━━━━━━━━━━━━━━━━━━━━━━━━━━━━━━━━━━━━━━━━\u001b[0m \u001b[32m198.9/198.9 kB\u001b[0m \u001b[31m9.1 MB/s\u001b[0m eta \u001b[36m0:00:00\u001b[0m\n",
            "\u001b[?25hRequirement already satisfied: scikit-learn<2.0,>=1.0 in /usr/local/lib/python3.10/dist-packages (from biopsykit) (1.2.2)\n",
            "Requirement already satisfied: scipy<2,>=1 in /usr/local/lib/python3.10/dist-packages (from biopsykit) (1.11.4)\n",
            "Requirement already satisfied: seaborn<1,>=0 in /usr/local/lib/python3.10/dist-packages (from biopsykit) (0.13.1)\n",
            "Collecting statannot<0.3.0,>=0.2.3 (from biopsykit)\n",
            "  Downloading statannot-0.2.3-py3-none-any.whl (10 kB)\n",
            "Collecting statsmodels<0.14,>=0.13 (from biopsykit)\n",
            "  Downloading statsmodels-0.13.5-cp310-cp310-manylinux_2_17_x86_64.manylinux2014_x86_64.whl (9.9 MB)\n",
            "\u001b[2K     \u001b[90m━━━━━━━━━━━━━━━━━━━━━━━━━━━━━━━━━━━━━━━━\u001b[0m \u001b[32m9.9/9.9 MB\u001b[0m \u001b[31m13.4 MB/s\u001b[0m eta \u001b[36m0:00:00\u001b[0m\n",
            "\u001b[?25hRequirement already satisfied: tqdm<5,>=4 in /usr/local/lib/python3.10/dist-packages (from biopsykit) (4.66.4)\n",
            "Requirement already satisfied: xlrd<3,>=2 in /usr/local/lib/python3.10/dist-packages (from biopsykit) (2.0.1)\n",
            "Collecting docopt>=0.6.1 (from bioread<4,>=3->biopsykit)\n",
            "  Downloading docopt-0.6.2.tar.gz (25 kB)\n",
            "  Preparing metadata (setup.py) ... \u001b[?25l\u001b[?25hdone\n",
            "Requirement already satisfied: typing-extensions>=3.7 in /usr/local/lib/python3.10/dist-packages (from fau-colors<2.0,>=1.1->biopsykit) (4.12.2)\n",
            "Requirement already satisfied: contourpy>=1.0.1 in /usr/local/lib/python3.10/dist-packages (from matplotlib<4.0,>=3.4->biopsykit) (1.2.1)\n",
            "Requirement already satisfied: cycler>=0.10 in /usr/local/lib/python3.10/dist-packages (from matplotlib<4.0,>=3.4->biopsykit) (0.12.1)\n",
            "Requirement already satisfied: fonttools>=4.22.0 in /usr/local/lib/python3.10/dist-packages (from matplotlib<4.0,>=3.4->biopsykit) (4.53.0)\n",
            "Requirement already satisfied: kiwisolver>=1.0.1 in /usr/local/lib/python3.10/dist-packages (from matplotlib<4.0,>=3.4->biopsykit) (1.4.5)\n",
            "Requirement already satisfied: packaging>=20.0 in /usr/local/lib/python3.10/dist-packages (from matplotlib<4.0,>=3.4->biopsykit) (24.1)\n",
            "Requirement already satisfied: pillow>=6.2.0 in /usr/local/lib/python3.10/dist-packages (from matplotlib<4.0,>=3.4->biopsykit) (9.4.0)\n",
            "Requirement already satisfied: pyparsing>=2.3.1 in /usr/local/lib/python3.10/dist-packages (from matplotlib<4.0,>=3.4->biopsykit) (3.1.2)\n",
            "Requirement already satisfied: python-dateutil>=2.7 in /usr/local/lib/python3.10/dist-packages (from matplotlib<4.0,>=3.4->biopsykit) (2.8.2)\n",
            "Requirement already satisfied: requests in /usr/local/lib/python3.10/dist-packages (from neurokit2<1,>=0->biopsykit) (2.31.0)\n",
            "Collecting imucal>=2.0.0 (from nilspodlib>=3.4.1->biopsykit)\n",
            "  Downloading imucal-2.4.0-py3-none-any.whl (23 kB)\n",
            "Requirement already satisfied: et-xmlfile in /usr/local/lib/python3.10/dist-packages (from openpyxl<4,>=3->biopsykit) (1.1.0)\n",
            "Requirement already satisfied: pytz>=2020.1 in /usr/local/lib/python3.10/dist-packages (from pandas<2,>=1->biopsykit) (2023.4)\n",
            "Collecting pandas-flavor (from pingouin<0.6.0,>=0.5.2->biopsykit)\n",
            "  Downloading pandas_flavor-0.6.0-py3-none-any.whl (7.2 kB)\n",
            "Requirement already satisfied: tabulate in /usr/local/lib/python3.10/dist-packages (from pingouin<0.6.0,>=0.5.2->biopsykit) (0.9.0)\n",
            "Requirement already satisfied: threadpoolctl>=2.0.0 in /usr/local/lib/python3.10/dist-packages (from scikit-learn<2.0,>=1.0->biopsykit) (3.5.0)\n",
            "Requirement already satisfied: patsy>=0.5.2 in /usr/local/lib/python3.10/dist-packages (from statsmodels<0.14,>=0.13->biopsykit) (0.5.6)\n",
            "Requirement already satisfied: six in /usr/local/lib/python3.10/dist-packages (from patsy>=0.5.2->statsmodels<0.14,>=0.13->biopsykit) (1.16.0)\n",
            "Requirement already satisfied: xarray in /usr/local/lib/python3.10/dist-packages (from pandas-flavor->pingouin<0.6.0,>=0.5.2->biopsykit) (2023.7.0)\n",
            "Requirement already satisfied: charset-normalizer<4,>=2 in /usr/local/lib/python3.10/dist-packages (from requests->neurokit2<1,>=0->biopsykit) (3.3.2)\n",
            "Requirement already satisfied: idna<4,>=2.5 in /usr/local/lib/python3.10/dist-packages (from requests->neurokit2<1,>=0->biopsykit) (3.7)\n",
            "Requirement already satisfied: urllib3<3,>=1.21.1 in /usr/local/lib/python3.10/dist-packages (from requests->neurokit2<1,>=0->biopsykit) (2.0.7)\n",
            "Requirement already satisfied: certifi>=2017.4.17 in /usr/local/lib/python3.10/dist-packages (from requests->neurokit2<1,>=0->biopsykit) (2024.6.2)\n",
            "Building wheels for collected packages: docopt\n",
            "  Building wheel for docopt (setup.py) ... \u001b[?25l\u001b[?25hdone\n",
            "  Created wheel for docopt: filename=docopt-0.6.2-py2.py3-none-any.whl size=13706 sha256=a216b2662ce4ee7a8e8a5f3921484fe4458c952f84b54b8a647ece2baba82e4d\n",
            "  Stored in directory: /root/.cache/pip/wheels/fc/ab/d4/5da2067ac95b36618c629a5f93f809425700506f72c9732fac\n",
            "Successfully built docopt\n",
            "Installing collected packages: XlsxWriter, docopt, statannot, bioread, pandas, statsmodels, neurokit2, imucal, pandas-flavor, nilspodlib, fau-colors, pingouin, biopsykit\n",
            "  Attempting uninstall: pandas\n",
            "    Found existing installation: pandas 2.0.3\n",
            "    Uninstalling pandas-2.0.3:\n",
            "      Successfully uninstalled pandas-2.0.3\n",
            "  Attempting uninstall: statsmodels\n",
            "    Found existing installation: statsmodels 0.14.2\n",
            "    Uninstalling statsmodels-0.14.2:\n",
            "      Successfully uninstalled statsmodels-0.14.2\n",
            "\u001b[31mERROR: pip's dependency resolver does not currently take into account all the packages that are installed. This behaviour is the source of the following dependency conflicts.\n",
            "cudf-cu12 24.4.1 requires pandas<2.2.2dev0,>=2.0, but you have pandas 1.5.3 which is incompatible.\n",
            "google-colab 1.0.0 requires pandas==2.0.3, but you have pandas 1.5.3 which is incompatible.\n",
            "plotnine 0.12.4 requires statsmodels>=0.14.0, but you have statsmodels 0.13.5 which is incompatible.\u001b[0m\u001b[31m\n",
            "\u001b[0mSuccessfully installed XlsxWriter-1.4.5 biopsykit-0.10.0 bioread-3.0.1 docopt-0.6.2 fau-colors-1.7.0 imucal-2.4.0 neurokit2-0.2.9 nilspodlib-3.6.0 pandas-1.5.3 pandas-flavor-0.6.0 pingouin-0.5.4 statannot-0.2.3 statsmodels-0.13.5\n",
            "Collecting ipympl\n",
            "  Downloading ipympl-0.9.4-py3-none-any.whl (516 kB)\n",
            "\u001b[2K     \u001b[90m━━━━━━━━━━━━━━━━━━━━━━━━━━━━━━━━━━━━━━━━\u001b[0m \u001b[32m516.3/516.3 kB\u001b[0m \u001b[31m8.1 MB/s\u001b[0m eta \u001b[36m0:00:00\u001b[0m\n",
            "\u001b[?25hRequirement already satisfied: ipython-genutils in /usr/local/lib/python3.10/dist-packages (from ipympl) (0.2.0)\n",
            "Requirement already satisfied: ipython<9 in /usr/local/lib/python3.10/dist-packages (from ipympl) (7.34.0)\n",
            "Requirement already satisfied: ipywidgets<9,>=7.6.0 in /usr/local/lib/python3.10/dist-packages (from ipympl) (7.7.1)\n",
            "Requirement already satisfied: matplotlib<4,>=3.4.0 in /usr/local/lib/python3.10/dist-packages (from ipympl) (3.7.1)\n",
            "Requirement already satisfied: numpy in /usr/local/lib/python3.10/dist-packages (from ipympl) (1.25.2)\n",
            "Requirement already satisfied: pillow in /usr/local/lib/python3.10/dist-packages (from ipympl) (9.4.0)\n",
            "Requirement already satisfied: traitlets<6 in /usr/local/lib/python3.10/dist-packages (from ipympl) (5.7.1)\n",
            "Requirement already satisfied: setuptools>=18.5 in /usr/local/lib/python3.10/dist-packages (from ipython<9->ipympl) (67.7.2)\n",
            "Collecting jedi>=0.16 (from ipython<9->ipympl)\n",
            "  Downloading jedi-0.19.1-py2.py3-none-any.whl (1.6 MB)\n",
            "\u001b[2K     \u001b[90m━━━━━━━━━━━━━━━━━━━━━━━━━━━━━━━━━━━━━━━━\u001b[0m \u001b[32m1.6/1.6 MB\u001b[0m \u001b[31m48.1 MB/s\u001b[0m eta \u001b[36m0:00:00\u001b[0m\n",
            "\u001b[?25hRequirement already satisfied: decorator in /usr/local/lib/python3.10/dist-packages (from ipython<9->ipympl) (4.4.2)\n",
            "Requirement already satisfied: pickleshare in /usr/local/lib/python3.10/dist-packages (from ipython<9->ipympl) (0.7.5)\n",
            "Requirement already satisfied: prompt-toolkit!=3.0.0,!=3.0.1,<3.1.0,>=2.0.0 in /usr/local/lib/python3.10/dist-packages (from ipython<9->ipympl) (3.0.47)\n",
            "Requirement already satisfied: pygments in /usr/local/lib/python3.10/dist-packages (from ipython<9->ipympl) (2.16.1)\n",
            "Requirement already satisfied: backcall in /usr/local/lib/python3.10/dist-packages (from ipython<9->ipympl) (0.2.0)\n",
            "Requirement already satisfied: matplotlib-inline in /usr/local/lib/python3.10/dist-packages (from ipython<9->ipympl) (0.1.7)\n",
            "Requirement already satisfied: pexpect>4.3 in /usr/local/lib/python3.10/dist-packages (from ipython<9->ipympl) (4.9.0)\n",
            "Requirement already satisfied: ipykernel>=4.5.1 in /usr/local/lib/python3.10/dist-packages (from ipywidgets<9,>=7.6.0->ipympl) (5.5.6)\n",
            "Requirement already satisfied: widgetsnbextension~=3.6.0 in /usr/local/lib/python3.10/dist-packages (from ipywidgets<9,>=7.6.0->ipympl) (3.6.6)\n",
            "Requirement already satisfied: jupyterlab-widgets>=1.0.0 in /usr/local/lib/python3.10/dist-packages (from ipywidgets<9,>=7.6.0->ipympl) (3.0.11)\n",
            "Requirement already satisfied: contourpy>=1.0.1 in /usr/local/lib/python3.10/dist-packages (from matplotlib<4,>=3.4.0->ipympl) (1.2.1)\n",
            "Requirement already satisfied: cycler>=0.10 in /usr/local/lib/python3.10/dist-packages (from matplotlib<4,>=3.4.0->ipympl) (0.12.1)\n",
            "Requirement already satisfied: fonttools>=4.22.0 in /usr/local/lib/python3.10/dist-packages (from matplotlib<4,>=3.4.0->ipympl) (4.53.0)\n",
            "Requirement already satisfied: kiwisolver>=1.0.1 in /usr/local/lib/python3.10/dist-packages (from matplotlib<4,>=3.4.0->ipympl) (1.4.5)\n",
            "Requirement already satisfied: packaging>=20.0 in /usr/local/lib/python3.10/dist-packages (from matplotlib<4,>=3.4.0->ipympl) (24.1)\n",
            "Requirement already satisfied: pyparsing>=2.3.1 in /usr/local/lib/python3.10/dist-packages (from matplotlib<4,>=3.4.0->ipympl) (3.1.2)\n",
            "Requirement already satisfied: python-dateutil>=2.7 in /usr/local/lib/python3.10/dist-packages (from matplotlib<4,>=3.4.0->ipympl) (2.8.2)\n",
            "Requirement already satisfied: jupyter-client in /usr/local/lib/python3.10/dist-packages (from ipykernel>=4.5.1->ipywidgets<9,>=7.6.0->ipympl) (6.1.12)\n",
            "Requirement already satisfied: tornado>=4.2 in /usr/local/lib/python3.10/dist-packages (from ipykernel>=4.5.1->ipywidgets<9,>=7.6.0->ipympl) (6.3.3)\n",
            "Requirement already satisfied: parso<0.9.0,>=0.8.3 in /usr/local/lib/python3.10/dist-packages (from jedi>=0.16->ipython<9->ipympl) (0.8.4)\n",
            "Requirement already satisfied: ptyprocess>=0.5 in /usr/local/lib/python3.10/dist-packages (from pexpect>4.3->ipython<9->ipympl) (0.7.0)\n",
            "Requirement already satisfied: wcwidth in /usr/local/lib/python3.10/dist-packages (from prompt-toolkit!=3.0.0,!=3.0.1,<3.1.0,>=2.0.0->ipython<9->ipympl) (0.2.13)\n",
            "Requirement already satisfied: six>=1.5 in /usr/local/lib/python3.10/dist-packages (from python-dateutil>=2.7->matplotlib<4,>=3.4.0->ipympl) (1.16.0)\n",
            "Requirement already satisfied: notebook>=4.4.1 in /usr/local/lib/python3.10/dist-packages (from widgetsnbextension~=3.6.0->ipywidgets<9,>=7.6.0->ipympl) (6.5.5)\n",
            "Requirement already satisfied: jinja2 in /usr/local/lib/python3.10/dist-packages (from notebook>=4.4.1->widgetsnbextension~=3.6.0->ipywidgets<9,>=7.6.0->ipympl) (3.1.4)\n",
            "Requirement already satisfied: pyzmq<25,>=17 in /usr/local/lib/python3.10/dist-packages (from notebook>=4.4.1->widgetsnbextension~=3.6.0->ipywidgets<9,>=7.6.0->ipympl) (24.0.1)\n",
            "Requirement already satisfied: argon2-cffi in /usr/local/lib/python3.10/dist-packages (from notebook>=4.4.1->widgetsnbextension~=3.6.0->ipywidgets<9,>=7.6.0->ipympl) (23.1.0)\n",
            "Requirement already satisfied: jupyter-core>=4.6.1 in /usr/local/lib/python3.10/dist-packages (from notebook>=4.4.1->widgetsnbextension~=3.6.0->ipywidgets<9,>=7.6.0->ipympl) (5.7.2)\n",
            "Requirement already satisfied: nbformat in /usr/local/lib/python3.10/dist-packages (from notebook>=4.4.1->widgetsnbextension~=3.6.0->ipywidgets<9,>=7.6.0->ipympl) (5.10.4)\n",
            "Requirement already satisfied: nbconvert>=5 in /usr/local/lib/python3.10/dist-packages (from notebook>=4.4.1->widgetsnbextension~=3.6.0->ipywidgets<9,>=7.6.0->ipympl) (6.5.4)\n",
            "Requirement already satisfied: nest-asyncio>=1.5 in /usr/local/lib/python3.10/dist-packages (from notebook>=4.4.1->widgetsnbextension~=3.6.0->ipywidgets<9,>=7.6.0->ipympl) (1.6.0)\n",
            "Requirement already satisfied: Send2Trash>=1.8.0 in /usr/local/lib/python3.10/dist-packages (from notebook>=4.4.1->widgetsnbextension~=3.6.0->ipywidgets<9,>=7.6.0->ipympl) (1.8.3)\n",
            "Requirement already satisfied: terminado>=0.8.3 in /usr/local/lib/python3.10/dist-packages (from notebook>=4.4.1->widgetsnbextension~=3.6.0->ipywidgets<9,>=7.6.0->ipympl) (0.18.1)\n",
            "Requirement already satisfied: prometheus-client in /usr/local/lib/python3.10/dist-packages (from notebook>=4.4.1->widgetsnbextension~=3.6.0->ipywidgets<9,>=7.6.0->ipympl) (0.20.0)\n",
            "Requirement already satisfied: nbclassic>=0.4.7 in /usr/local/lib/python3.10/dist-packages (from notebook>=4.4.1->widgetsnbextension~=3.6.0->ipywidgets<9,>=7.6.0->ipympl) (1.1.0)\n",
            "Requirement already satisfied: platformdirs>=2.5 in /usr/local/lib/python3.10/dist-packages (from jupyter-core>=4.6.1->notebook>=4.4.1->widgetsnbextension~=3.6.0->ipywidgets<9,>=7.6.0->ipympl) (4.2.2)\n",
            "Requirement already satisfied: notebook-shim>=0.2.3 in /usr/local/lib/python3.10/dist-packages (from nbclassic>=0.4.7->notebook>=4.4.1->widgetsnbextension~=3.6.0->ipywidgets<9,>=7.6.0->ipympl) (0.2.4)\n",
            "Requirement already satisfied: lxml in /usr/local/lib/python3.10/dist-packages (from nbconvert>=5->notebook>=4.4.1->widgetsnbextension~=3.6.0->ipywidgets<9,>=7.6.0->ipympl) (4.9.4)\n",
            "Requirement already satisfied: beautifulsoup4 in /usr/local/lib/python3.10/dist-packages (from nbconvert>=5->notebook>=4.4.1->widgetsnbextension~=3.6.0->ipywidgets<9,>=7.6.0->ipympl) (4.12.3)\n",
            "Requirement already satisfied: bleach in /usr/local/lib/python3.10/dist-packages (from nbconvert>=5->notebook>=4.4.1->widgetsnbextension~=3.6.0->ipywidgets<9,>=7.6.0->ipympl) (6.1.0)\n",
            "Requirement already satisfied: defusedxml in /usr/local/lib/python3.10/dist-packages (from nbconvert>=5->notebook>=4.4.1->widgetsnbextension~=3.6.0->ipywidgets<9,>=7.6.0->ipympl) (0.7.1)\n",
            "Requirement already satisfied: entrypoints>=0.2.2 in /usr/local/lib/python3.10/dist-packages (from nbconvert>=5->notebook>=4.4.1->widgetsnbextension~=3.6.0->ipywidgets<9,>=7.6.0->ipympl) (0.4)\n",
            "Requirement already satisfied: jupyterlab-pygments in /usr/local/lib/python3.10/dist-packages (from nbconvert>=5->notebook>=4.4.1->widgetsnbextension~=3.6.0->ipywidgets<9,>=7.6.0->ipympl) (0.3.0)\n",
            "Requirement already satisfied: MarkupSafe>=2.0 in /usr/local/lib/python3.10/dist-packages (from nbconvert>=5->notebook>=4.4.1->widgetsnbextension~=3.6.0->ipywidgets<9,>=7.6.0->ipympl) (2.1.5)\n",
            "Requirement already satisfied: mistune<2,>=0.8.1 in /usr/local/lib/python3.10/dist-packages (from nbconvert>=5->notebook>=4.4.1->widgetsnbextension~=3.6.0->ipywidgets<9,>=7.6.0->ipympl) (0.8.4)\n",
            "Requirement already satisfied: nbclient>=0.5.0 in /usr/local/lib/python3.10/dist-packages (from nbconvert>=5->notebook>=4.4.1->widgetsnbextension~=3.6.0->ipywidgets<9,>=7.6.0->ipympl) (0.10.0)\n",
            "Requirement already satisfied: pandocfilters>=1.4.1 in /usr/local/lib/python3.10/dist-packages (from nbconvert>=5->notebook>=4.4.1->widgetsnbextension~=3.6.0->ipywidgets<9,>=7.6.0->ipympl) (1.5.1)\n",
            "Requirement already satisfied: tinycss2 in /usr/local/lib/python3.10/dist-packages (from nbconvert>=5->notebook>=4.4.1->widgetsnbextension~=3.6.0->ipywidgets<9,>=7.6.0->ipympl) (1.3.0)\n",
            "Requirement already satisfied: fastjsonschema>=2.15 in /usr/local/lib/python3.10/dist-packages (from nbformat->notebook>=4.4.1->widgetsnbextension~=3.6.0->ipywidgets<9,>=7.6.0->ipympl) (2.20.0)\n",
            "Requirement already satisfied: jsonschema>=2.6 in /usr/local/lib/python3.10/dist-packages (from nbformat->notebook>=4.4.1->widgetsnbextension~=3.6.0->ipywidgets<9,>=7.6.0->ipympl) (4.19.2)\n",
            "Requirement already satisfied: argon2-cffi-bindings in /usr/local/lib/python3.10/dist-packages (from argon2-cffi->notebook>=4.4.1->widgetsnbextension~=3.6.0->ipywidgets<9,>=7.6.0->ipympl) (21.2.0)\n",
            "Requirement already satisfied: attrs>=22.2.0 in /usr/local/lib/python3.10/dist-packages (from jsonschema>=2.6->nbformat->notebook>=4.4.1->widgetsnbextension~=3.6.0->ipywidgets<9,>=7.6.0->ipympl) (23.2.0)\n",
            "Requirement already satisfied: jsonschema-specifications>=2023.03.6 in /usr/local/lib/python3.10/dist-packages (from jsonschema>=2.6->nbformat->notebook>=4.4.1->widgetsnbextension~=3.6.0->ipywidgets<9,>=7.6.0->ipympl) (2023.12.1)\n",
            "Requirement already satisfied: referencing>=0.28.4 in /usr/local/lib/python3.10/dist-packages (from jsonschema>=2.6->nbformat->notebook>=4.4.1->widgetsnbextension~=3.6.0->ipywidgets<9,>=7.6.0->ipympl) (0.35.1)\n",
            "Requirement already satisfied: rpds-py>=0.7.1 in /usr/local/lib/python3.10/dist-packages (from jsonschema>=2.6->nbformat->notebook>=4.4.1->widgetsnbextension~=3.6.0->ipywidgets<9,>=7.6.0->ipympl) (0.18.1)\n",
            "Requirement already satisfied: jupyter-server<3,>=1.8 in /usr/local/lib/python3.10/dist-packages (from notebook-shim>=0.2.3->nbclassic>=0.4.7->notebook>=4.4.1->widgetsnbextension~=3.6.0->ipywidgets<9,>=7.6.0->ipympl) (1.24.0)\n",
            "Requirement already satisfied: cffi>=1.0.1 in /usr/local/lib/python3.10/dist-packages (from argon2-cffi-bindings->argon2-cffi->notebook>=4.4.1->widgetsnbextension~=3.6.0->ipywidgets<9,>=7.6.0->ipympl) (1.16.0)\n",
            "Requirement already satisfied: soupsieve>1.2 in /usr/local/lib/python3.10/dist-packages (from beautifulsoup4->nbconvert>=5->notebook>=4.4.1->widgetsnbextension~=3.6.0->ipywidgets<9,>=7.6.0->ipympl) (2.5)\n",
            "Requirement already satisfied: webencodings in /usr/local/lib/python3.10/dist-packages (from bleach->nbconvert>=5->notebook>=4.4.1->widgetsnbextension~=3.6.0->ipywidgets<9,>=7.6.0->ipympl) (0.5.1)\n",
            "Requirement already satisfied: pycparser in /usr/local/lib/python3.10/dist-packages (from cffi>=1.0.1->argon2-cffi-bindings->argon2-cffi->notebook>=4.4.1->widgetsnbextension~=3.6.0->ipywidgets<9,>=7.6.0->ipympl) (2.22)\n",
            "Requirement already satisfied: anyio<4,>=3.1.0 in /usr/local/lib/python3.10/dist-packages (from jupyter-server<3,>=1.8->notebook-shim>=0.2.3->nbclassic>=0.4.7->notebook>=4.4.1->widgetsnbextension~=3.6.0->ipywidgets<9,>=7.6.0->ipympl) (3.7.1)\n",
            "Requirement already satisfied: websocket-client in /usr/local/lib/python3.10/dist-packages (from jupyter-server<3,>=1.8->notebook-shim>=0.2.3->nbclassic>=0.4.7->notebook>=4.4.1->widgetsnbextension~=3.6.0->ipywidgets<9,>=7.6.0->ipympl) (1.8.0)\n",
            "Requirement already satisfied: idna>=2.8 in /usr/local/lib/python3.10/dist-packages (from anyio<4,>=3.1.0->jupyter-server<3,>=1.8->notebook-shim>=0.2.3->nbclassic>=0.4.7->notebook>=4.4.1->widgetsnbextension~=3.6.0->ipywidgets<9,>=7.6.0->ipympl) (3.7)\n",
            "Requirement already satisfied: sniffio>=1.1 in /usr/local/lib/python3.10/dist-packages (from anyio<4,>=3.1.0->jupyter-server<3,>=1.8->notebook-shim>=0.2.3->nbclassic>=0.4.7->notebook>=4.4.1->widgetsnbextension~=3.6.0->ipywidgets<9,>=7.6.0->ipympl) (1.3.1)\n",
            "Requirement already satisfied: exceptiongroup in /usr/local/lib/python3.10/dist-packages (from anyio<4,>=3.1.0->jupyter-server<3,>=1.8->notebook-shim>=0.2.3->nbclassic>=0.4.7->notebook>=4.4.1->widgetsnbextension~=3.6.0->ipywidgets<9,>=7.6.0->ipympl) (1.2.1)\n",
            "Installing collected packages: jedi, ipympl\n",
            "Successfully installed ipympl-0.9.4 jedi-0.19.1\n"
          ]
        }
      ],
      "source": [
        "import matplotlib\n",
        "import matplotlib.pyplot as plt\n",
        "import numpy as np\n",
        "!pip install biopsykit\n",
        "import biopsykit as bp\n",
        "!pip install ipympl\n",
        "import neurokit2 as nk\n",
        "from scipy import stats\n",
        "# BEFORE RELEASE: uncomment lines below in students' version\n",
        "# from google.colab import output\n",
        "# output.enable_custom_widget_manager()\n",
        "%matplotlib ipympl"
      ]
    },
    {
      "cell_type": "markdown",
      "id": "cf06b76a-1f23-4ffa-a550-f0bc4a05ad64",
      "metadata": {
        "id": "cf06b76a-1f23-4ffa-a550-f0bc4a05ad64"
      },
      "source": [
        "##### 0.1 Run the following cell to load the ECG data of two participants:\n",
        "* ``ecg_1``: ``numpy.ndarray`` containing all samples recorded from the ECG of participant 1\n",
        "* ``ecg_2``: ``numpy.ndarray`` containing all samples recorded from the ECG of participant 2\n",
        "* ``fs``: ``float`` number containing the sampling frequency of ``ecg_1`` and ``ecg_2``. In this case, ``fs`` is equal to 256.0 Hz which means that 256 ECG samples were taken in one second."
      ]
    },
    {
      "cell_type": "code",
      "execution_count": 3,
      "id": "f6073184-423d-43c1-a155-a2b2a7c62809",
      "metadata": {
        "tags": [],
        "id": "f6073184-423d-43c1-a155-a2b2a7c62809",
        "colab": {
          "base_uri": "https://localhost:8080/",
          "height": 117,
          "referenced_widgets": [
            "94a9031b3a6946fc87f2e8c1425e30bf",
            "969762a9a26f40cd8e92a2e479225519",
            "561f773fbeea4452a7688c9e18021658",
            "3f356ddd27dc4cc88e15699f2d185fef",
            "cb13041fe4f64d1d92368159616de755",
            "bd43b48d417246f69e21e3986f7c2980",
            "2f98f86874574894aebc5642a8271697",
            "b148e13065b846398dc8194b7e12c2eb",
            "9fbaf0f99fb64fad980c72d9d972be6c",
            "d41be72a03624d438ac26734dcf0b18a",
            "e59e35d3bfee49be997611591c681970",
            "b4b56bfd03054f23a20c8aa8a8506e7b",
            "aa8b27b518e547d88c447a932ea9b451",
            "58ca6af60e2f4e51adeb6df13ce04393",
            "76dad40459474ee0865bebb7d867f6af",
            "ac39c245c1a547c28b5f84b27fff20bb",
            "78c34bb130e64278b7a675b7331e622c",
            "629e6aacd7d343dea61c16fdb7889cd5",
            "fe1fe8d6785448f487dc1ebd60f5291b",
            "12a6e440e8214ea88d472d3143497f58",
            "a7896fd40ff546ccb84d25ef1f2ee1d2",
            "3d81d39047aa4721bd8e6945503d02f9"
          ]
        },
        "outputId": "e1d3e004-88f3-457b-b63b-c699fdeb99dc"
      },
      "outputs": [
        {
          "output_type": "stream",
          "name": "stdout",
          "text": [
            "Downloading file ecg/ecg_sample_Vp01.bin from remote URL: https://raw.githubusercontent.com/mad-lab-fau/BioPsyKit/main/example_data/ecg/ecg_sample_Vp01.bin.\n"
          ]
        },
        {
          "output_type": "display_data",
          "data": {
            "text/plain": [
              "ecg/ecg_sample_Vp01.bin: 0.00B [00:00, ?B/s]"
            ],
            "application/vnd.jupyter.widget-view+json": {
              "version_major": 2,
              "version_minor": 0,
              "model_id": "94a9031b3a6946fc87f2e8c1425e30bf"
            }
          },
          "metadata": {}
        },
        {
          "output_type": "stream",
          "name": "stdout",
          "text": [
            "Downloading file ecg/ecg_sample_Vp02.bin from remote URL: https://raw.githubusercontent.com/mad-lab-fau/BioPsyKit/main/example_data/ecg/ecg_sample_Vp02.bin.\n"
          ]
        },
        {
          "output_type": "display_data",
          "data": {
            "text/plain": [
              "ecg/ecg_sample_Vp02.bin: 0.00B [00:00, ?B/s]"
            ],
            "application/vnd.jupyter.widget-view+json": {
              "version_major": 2,
              "version_minor": 0,
              "model_id": "b4b56bfd03054f23a20c8aa8a8506e7b"
            }
          },
          "metadata": {}
        }
      ],
      "source": [
        "# run this cell to load the data\n",
        "ecg_1, fs = bp.example_data.get_ecg_example()\n",
        "ecg_1 = ecg_1[\"ecg\"].to_numpy()\n",
        "ecg_2, _ = bp.example_data.get_ecg_example_02()\n",
        "ecg_2 = ecg_2[\"ecg\"].to_numpy()"
      ]
    },
    {
      "cell_type": "markdown",
      "id": "872ba7dc-f807-438f-8463-d66a684b2881",
      "metadata": {
        "id": "872ba7dc-f807-438f-8463-d66a684b2881"
      },
      "source": [
        "In the following, you will perform a step-by-step heart rate analysis based on the given ECGs ``ecg_1`` and ``ecg_2``. You will repeat some of the calculations performed in a similar way in earlier assignments and will visualize their outputs/results in between."
      ]
    },
    {
      "cell_type": "markdown",
      "id": "a8bb44dd-58fa-4793-bce0-a269e7d8c7e4",
      "metadata": {
        "id": "a8bb44dd-58fa-4793-bce0-a269e7d8c7e4"
      },
      "source": [
        "#### 1. Create a figure that visualizes ``ecg_1``. To do so:\n",
        "* Create a figure called ``fig`` using [matplotlib.pyplot.figure](https://matplotlib.org/stable/api/_as_gen/matplotlib.pyplot.figure.html) with size (8, 3)\n",
        "* Create a vector ``t`` that represents the time axis of ``ecg_1`` using [numpy.linspace](https://numpy.org/doc/stable/reference/generated/numpy.linspace.html) and ``fs``. ``t`` starts at 0 and should not include the endpoint.\n",
        "* Plot ``ecg_1`` over ``t``. Try out different parameters like [linestyle](https://matplotlib.org/stable/api/_as_gen/matplotlib.lines.Line2D.html#matplotlib.lines.Line2D.set_linestyle), [marker](https://matplotlib.org/stable/api/_as_gen/matplotlib.markers.MarkerStyle.html#matplotlib.markers.MarkerStyle), or [color](https://matplotlib.org/stable/gallery/color/named_colors.html) to change the signal appearance.\n",
        "* Set the x- and y-label as well as the title of the figure according to the data\n",
        "* If your figure is not visualized completely, you can also set the layout to be tight\n",
        "\n",
        "**Hints**: ``matplotlib.pyplot`` is already imported at the top. If you want to have a look at exemplary usage, you can check out this [matplotlib tutorial](https://matplotlib.org/stable/tutorials/introductory/pyplot.html). Also, this time we install ``ipympl`` which enables using the interactive features of ``matplotlib`` in notebooks. To use the features, move your cursor onto the figure, a tool bar appears and you can for example zoom into your figures."
      ]
    },
    {
      "cell_type": "code",
      "execution_count": 4,
      "id": "bb173adf-48cc-45e0-b400-2bbb554f22ea",
      "metadata": {
        "deletable": false,
        "nbgrader": {
          "cell_type": "code",
          "checksum": "aed26d8e255770a1f6ff48cf0fb1e44c",
          "grade": false,
          "grade_id": "task_1",
          "locked": false,
          "schema_version": 3,
          "solution": true,
          "task": false
        },
        "tags": [],
        "id": "bb173adf-48cc-45e0-b400-2bbb554f22ea",
        "colab": {
          "base_uri": "https://localhost:8080/",
          "height": 17,
          "referenced_widgets": [
            "c44238a987a34203881251d1b3c7ae1d"
          ]
        },
        "outputId": "a45a289b-bae9-4bfe-b387-5ad6b56770e5"
      },
      "outputs": [
        {
          "output_type": "display_data",
          "data": {
            "text/plain": [
              "Canvas(toolbar=Toolbar(toolitems=[('Home', 'Reset original view', 'home', 'home'), ('Back', 'Back to previous …"
            ],
            "image/png": "[encoded data removed]",
            "text/html": [
              "\n",
              "            <div style=\"display: inline-block;\">\n",
              "                <div class=\"jupyter-widgets widget-label\" style=\"text-align: center;\">\n",
              "                    Figure\n",
              "                </div>\n",
              "                <img src='data:image/png;base64,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' width=800.0/>\n",
              "            </div>\n",
              "        "
            ],
            "application/vnd.jupyter.widget-view+json": {
              "version_major": 2,
              "version_minor": 0,
              "model_id": "c44238a987a34203881251d1b3c7ae1d"
            }
          },
          "metadata": {}
        }
      ],
      "source": [
        "# YOUR CODE HERE\n",
        "t = np.linspace(0, len(ecg_1) / fs, len(ecg_1), endpoint=False)\n",
        "fig = plt.figure(figsize=(8, 3))\n",
        "plt.plot(t, ecg_1, linestyle='-', marker='o', color='b')\n",
        "\n",
        "plt.xlabel('Time (s)')\n",
        "plt.ylabel('Amplitude')\n",
        "plt.title('ECG Signal')\n",
        "\n",
        "plt.tight_layout()\n",
        "plt.show()"
      ]
    },
    {
      "cell_type": "code",
      "execution_count": 5,
      "id": "3277cbfb-6b13-48dc-bb40-b6ad4dfa377c",
      "metadata": {
        "deletable": false,
        "editable": false,
        "nbgrader": {
          "cell_type": "code",
          "checksum": "86d4698a44bf5416029a773447727b0a",
          "grade": true,
          "grade_id": "task_1_test",
          "locked": true,
          "points": 2,
          "schema_version": 3,
          "solution": false,
          "task": false
        },
        "tags": [],
        "id": "3277cbfb-6b13-48dc-bb40-b6ad4dfa377c"
      },
      "outputs": [],
      "source": [
        "# run cell to test your implementation\n",
        "assert len(t) == len(ecg_1), \"t must have the same length as ecg_1\"\n",
        "assert t[1] == 1 / fs and t[-1] == (len(ecg_1) - 1) / fs, \"Check that t is generated according to fs\"\n",
        "assert fig.get_figheight() == 3 and fig.get_figwidth() == 8, \"Check the size of the figure\"\n",
        "assert np.all(fig.axes[0].xaxis.get_data_interval() == np.array([0, 616.36328125])), \"Check that you plot the ecg over the time vector\"\n",
        "assert np.all(fig.axes[0].yaxis.get_data_interval() == np.array([-5010, 40364])), \"Check that you plot ecg_1\"\n",
        "assert len(fig.axes[0].get_xlabel()) != 0 and len(fig.axes[0].get_ylabel()) != 0, \"Check your x and y labels\"\n",
        "assert len(fig.axes[0].title.get_text()), \"Check the  figure's title\""
      ]
    },
    {
      "cell_type": "markdown",
      "id": "01d93c97-558c-4723-ac27-1f8ccd8f956c",
      "metadata": {
        "id": "01d93c97-558c-4723-ac27-1f8ccd8f956c"
      },
      "source": [
        "#### 2. Create a function ``extract_r_peaks`` which takes ``ecg`` and ``fs`` as parameters and calculates the R peaks of ``ecg``:\n",
        "* ``ecg``: ``numpy.ndarray`` containing the raw ECG data\n",
        "* ``fs``: sampling frequency of ``ecg``\n",
        "* Check if ``fs`` is of type ``int``. If not, convert it to ``int``.\n",
        "* Use the [NeuroKit.ecg_clean()](https://neuropsychology.github.io/NeuroKit/functions/ecg.html#neurokit2.ecg.ecg_clean) to remove noise and improve peak-detection accuracy. Use \"neurokit\" as ``method``.\n",
        "* Use [NeuroKit.ecg_peaks()](https://neuropsychology.github.io/NeuroKit/functions/ecg.html#ecg-peaks) to identify R peaks in the cleaned ECG version. Use \"neurokit\" as method.\n",
        "* The function should return the cleaned ecg and the array with R peak locations as samples (in this order) as tuple\n",
        "\n",
        "**Hint**: If a function has multiple return values but you are only interested in some of them you can ignore return values using a placeholder ``_`` (in the following example the second return value is ignored): ``val_1, _, val_3 = some_func()``"
      ]
    },
    {
      "cell_type": "code",
      "execution_count": 60,
      "id": "a8f07c2a-4c06-488f-a013-b31d35829c6b",
      "metadata": {
        "deletable": false,
        "nbgrader": {
          "cell_type": "code",
          "checksum": "1ae86f079c7d6e82fa01c4a661c1333e",
          "grade": false,
          "grade_id": "task_2",
          "locked": false,
          "schema_version": 3,
          "solution": true,
          "task": false
        },
        "tags": [],
        "id": "a8f07c2a-4c06-488f-a013-b31d35829c6b"
      },
      "outputs": [],
      "source": [
        "# YOUR CODE HERE\n",
        "\n",
        "def extract_r_peaks(ecg, fs):\n",
        "    fs = int(fs)\n",
        "\n",
        "    cleaned_ecg = nk.ecg_clean(ecg, method=\"neurokit\")\n",
        "\n",
        "    _, r_peaks = nk.ecg_peaks(cleaned_ecg, sampling_rate=fs, method=\"neurokit\")\n",
        "\n",
        "    r_peak_locations = np.where(r_peaks['ECG_R_Peaks'])[0]\n",
        "\n",
        "    print(r_peaks.keys())\n",
        "    print(r_peaks['ECG_R_Peaks'].shape, r_peak_locations.shape, cleaned_ecg.shape)\n",
        "    res = (cleaned_ecg, r_peak_locations)\n",
        "    print(np.sum(r_peaks['ECG_R_Peaks'])< 69896028)\n",
        "\n",
        "    return res"
      ]
    },
    {
      "cell_type": "code",
      "execution_count": 56,
      "id": "fc060d99-fdf1-4f91-a45f-c677210fe530",
      "metadata": {
        "deletable": false,
        "editable": false,
        "nbgrader": {
          "cell_type": "code",
          "checksum": "1786e5ec384c01a0ae5a85d5e40e230c",
          "grade": true,
          "grade_id": "task_2_test",
          "locked": true,
          "points": 1,
          "schema_version": 3,
          "solution": false,
          "task": false
        },
        "tags": [],
        "id": "fc060d99-fdf1-4f91-a45f-c677210fe530",
        "colab": {
          "base_uri": "https://localhost:8080/",
          "height": 255
        },
        "outputId": "ebd5f773-b3a4-4835-e8ec-f7639d63112c"
      },
      "outputs": [
        {
          "output_type": "stream",
          "name": "stdout",
          "text": [
            "dict_keys(['method_peaks', 'method_fixpeaks', 'ECG_R_Peaks', 'sampling_rate'])\n",
            "(875,) (0,) (157790,)\n",
            "True\n"
          ]
        },
        {
          "output_type": "error",
          "ename": "AssertionError",
          "evalue": "Check that you return only the array of r peak locations",
          "traceback": [
            "\u001b[0;31m---------------------------------------------------------------------------\u001b[0m",
            "\u001b[0;31mAssertionError\u001b[0m                            Traceback (most recent call last)",
            "\u001b[0;32m<ipython-input-56-e67521ec64ed>\u001b[0m in \u001b[0;36m<cell line: 5>\u001b[0;34m()\u001b[0m\n\u001b[1;32m      3\u001b[0m \u001b[0;32massert\u001b[0m \u001b[0mtype\u001b[0m\u001b[0;34m(\u001b[0m\u001b[0mtest\u001b[0m\u001b[0;34m)\u001b[0m \u001b[0;34m==\u001b[0m \u001b[0mtuple\u001b[0m\u001b[0;34m,\u001b[0m \u001b[0;34m\"Check if you return a tuple of the cleaned ecg and the array with r peak locations\"\u001b[0m\u001b[0;34m\u001b[0m\u001b[0;34m\u001b[0m\u001b[0m\n\u001b[1;32m      4\u001b[0m \u001b[0;32massert\u001b[0m \u001b[0mnp\u001b[0m\u001b[0;34m.\u001b[0m\u001b[0mmax\u001b[0m\u001b[0;34m(\u001b[0m\u001b[0mecg_1\u001b[0m\u001b[0;34m)\u001b[0m \u001b[0;34m>\u001b[0m \u001b[0mnp\u001b[0m\u001b[0;34m.\u001b[0m\u001b[0mmax\u001b[0m\u001b[0;34m(\u001b[0m\u001b[0mtest\u001b[0m\u001b[0;34m[\u001b[0m\u001b[0;36m0\u001b[0m\u001b[0;34m]\u001b[0m\u001b[0;34m)\u001b[0m \u001b[0;32mand\u001b[0m \u001b[0mnp\u001b[0m\u001b[0;34m.\u001b[0m\u001b[0mmin\u001b[0m\u001b[0;34m(\u001b[0m\u001b[0mecg_1\u001b[0m\u001b[0;34m)\u001b[0m \u001b[0;34m<\u001b[0m \u001b[0mnp\u001b[0m\u001b[0;34m.\u001b[0m\u001b[0mmin\u001b[0m\u001b[0;34m(\u001b[0m\u001b[0mtest\u001b[0m\u001b[0;34m[\u001b[0m\u001b[0;36m0\u001b[0m\u001b[0;34m]\u001b[0m\u001b[0;34m)\u001b[0m\u001b[0;34m,\u001b[0m \u001b[0;34m\"Check that you return the cleaned ecg and not the original ecg\"\u001b[0m\u001b[0;34m\u001b[0m\u001b[0;34m\u001b[0m\u001b[0m\n\u001b[0;32m----> 5\u001b[0;31m \u001b[0;32massert\u001b[0m \u001b[0mtype\u001b[0m\u001b[0;34m(\u001b[0m\u001b[0mtest\u001b[0m\u001b[0;34m[\u001b[0m\u001b[0;36m1\u001b[0m\u001b[0;34m]\u001b[0m\u001b[0;34m)\u001b[0m \u001b[0;34m==\u001b[0m \u001b[0mnp\u001b[0m\u001b[0;34m.\u001b[0m\u001b[0mndarray\u001b[0m \u001b[0;32mand\u001b[0m \u001b[0mnp\u001b[0m\u001b[0;34m.\u001b[0m\u001b[0mshape\u001b[0m\u001b[0;34m(\u001b[0m\u001b[0mtest\u001b[0m\u001b[0;34m[\u001b[0m\u001b[0;36m1\u001b[0m\u001b[0;34m]\u001b[0m\u001b[0;34m)\u001b[0m \u001b[0;34m==\u001b[0m \u001b[0;34m(\u001b[0m\u001b[0;36m876\u001b[0m\u001b[0;34m,\u001b[0m\u001b[0;34m)\u001b[0m\u001b[0;34m,\u001b[0m \u001b[0;34m\"Check that you return only the array of r peak locations\"\u001b[0m\u001b[0;34m\u001b[0m\u001b[0;34m\u001b[0m\u001b[0m\n\u001b[0m\u001b[1;32m      6\u001b[0m \u001b[0;32massert\u001b[0m \u001b[0mnp\u001b[0m\u001b[0;34m.\u001b[0m\u001b[0msum\u001b[0m\u001b[0;34m(\u001b[0m\u001b[0mtest\u001b[0m\u001b[0;34m[\u001b[0m\u001b[0;36m1\u001b[0m\u001b[0;34m]\u001b[0m\u001b[0;34m)\u001b[0m \u001b[0;34m<\u001b[0m \u001b[0;36m69896028\u001b[0m\u001b[0;34m,\u001b[0m \u001b[0;34m\"Check that you apply ecg_peaks() to the cleaned ecg\"\u001b[0m\u001b[0;34m\u001b[0m\u001b[0;34m\u001b[0m\u001b[0m\n",
            "\u001b[0;31mAssertionError\u001b[0m: Check that you return only the array of r peak locations"
          ]
        }
      ],
      "source": [
        "# run cell to test your implementation\n",
        "test = extract_r_peaks(ecg_1, fs)\n",
        "assert type(test) == tuple, \"Check if you return a tuple of the cleaned ecg and the array with r peak locations\"\n",
        "assert np.max(ecg_1) > np.max(test[0]) and np.min(ecg_1) < np.min(test[0]), \"Check that you return the cleaned ecg and not the original ecg\"\n",
        "assert type(test[1]) == np.ndarray and np.shape(test[1]) == (876,), \"Check that you return only the array of r peak locations\"\n",
        "assert np.sum(test[1]) < 69896028, \"Check that you apply ecg_peaks() to the cleaned ecg\""
      ]
    },
    {
      "cell_type": "markdown",
      "id": "22d20c38-1ad3-4dad-ada6-0f8082316e1b",
      "metadata": {
        "tags": [],
        "id": "22d20c38-1ad3-4dad-ada6-0f8082316e1b"
      },
      "source": [
        "#### 3. Create a figure that visualizes ``ecg_1`` and its respective R peaks. To do so:\n",
        "* Create a figure called ``fig`` with an appropriate size\n",
        "* Plot the cleaned version of ``ecg_1`` over time\n",
        "* Mark every identified R peak with an individual marker. You can use for example [matplotlib.pyplot.scatter](https://matplotlib.org/stable/tutorials/introductory/pyplot.html) for this.\n",
        "* Add a legend to your figure such that the ECG and R peaks are identified. Check out what you have to change in your code when plotting the ECG and R peaks.\n",
        "* Set the x- and y-label as well as the title of the figure according to the data\n",
        "\n",
        "**Hint**: The function ``extract_r_peaks()`` returns an array of samples, indicating the specific sample positions where the R peaks were detected in the ECG."
      ]
    },
    {
      "cell_type": "code",
      "execution_count": 61,
      "id": "bfc37986-e918-42d4-8ae2-42000f13e3bd",
      "metadata": {
        "deletable": false,
        "nbgrader": {
          "cell_type": "code",
          "checksum": "d88d6070375f2107b90a7f85c4f7131b",
          "grade": false,
          "grade_id": "task_3",
          "locked": false,
          "schema_version": 3,
          "solution": true,
          "task": false
        },
        "tags": [],
        "id": "bfc37986-e918-42d4-8ae2-42000f13e3bd",
        "colab": {
          "base_uri": "https://localhost:8080/",
          "height": 71,
          "referenced_widgets": [
            "66a8bc71f57d4b9c9e6681c7ed87cd3d"
          ]
        },
        "outputId": "6daca72b-3f4f-49a8-8940-130bca8c4964"
      },
      "outputs": [
        {
          "output_type": "stream",
          "name": "stdout",
          "text": [
            "dict_keys(['method_peaks', 'method_fixpeaks', 'ECG_R_Peaks', 'sampling_rate'])\n",
            "(875,) (875,) (157790,)\n",
            "True\n"
          ]
        },
        {
          "output_type": "display_data",
          "data": {
            "text/plain": [
              "Canvas(toolbar=Toolbar(toolitems=[('Home', 'Reset original view', 'home', 'home'), ('Back', 'Back to previous …"
            ],
            "image/png": "[encoded data removed]",
            "text/html": [
              "\n",
              "            <div style=\"display: inline-block;\">\n",
              "                <div class=\"jupyter-widgets widget-label\" style=\"text-align: center;\">\n",
              "                    Figure\n",
              "                </div>\n",
              "                <img src='data:image/png;base64,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' width=1000.0/>\n",
              "            </div>\n",
              "        "
            ],
            "application/vnd.jupyter.widget-view+json": {
              "version_major": 2,
              "version_minor": 0,
              "model_id": "66a8bc71f57d4b9c9e6681c7ed87cd3d"
            }
          },
          "metadata": {}
        }
      ],
      "source": [
        "# YOUR CODE HERE\n",
        "cleaned_ecg, r_peaks = extract_r_peaks(ecg_1, fs)\n",
        "t = np.linspace(0, len(ecg_1) / fs, len(ecg_1), endpoint=False)\n",
        "\n",
        "fig = plt.figure(figsize=(10, 4))\n",
        "\n",
        "plt.plot(t, cleaned_ecg, label='Cleaned ECG', linestyle='-', color='blue')\n",
        "\n",
        "plt.scatter(t[r_peaks], cleaned_ecg[r_peaks], color='red', label='R Peaks', marker='o')\n",
        "\n",
        "plt.xlabel('Time (s)')\n",
        "plt.ylabel('Amplitude')\n",
        "plt.title('ECG Signal with R Peaks')\n",
        "plt.legend()\n",
        "\n",
        "plt.tight_layout()\n",
        "plt.show()"
      ]
    },
    {
      "cell_type": "code",
      "execution_count": 62,
      "id": "b87b88cc-4969-4966-a515-3e0bb7f0859a",
      "metadata": {
        "deletable": false,
        "editable": false,
        "nbgrader": {
          "cell_type": "code",
          "checksum": "0d962894aff96a84b8b17d71a1b4be55",
          "grade": true,
          "grade_id": "task_3_test",
          "locked": true,
          "points": 2,
          "schema_version": 3,
          "solution": false,
          "task": false
        },
        "tags": [],
        "id": "b87b88cc-4969-4966-a515-3e0bb7f0859a",
        "colab": {
          "base_uri": "https://localhost:8080/",
          "height": 237
        },
        "outputId": "7bccb182-73ad-4384-e9f7-096b1a81d270"
      },
      "outputs": [
        {
          "output_type": "error",
          "ename": "AssertionError",
          "evalue": "Check that you plot the cleaned version of ecg_1",
          "traceback": [
            "\u001b[0;31m---------------------------------------------------------------------------\u001b[0m",
            "\u001b[0;31mAssertionError\u001b[0m                            Traceback (most recent call last)",
            "\u001b[0;32m<ipython-input-62-39872e4f1c01>\u001b[0m in \u001b[0;36m<cell line: 3>\u001b[0;34m()\u001b[0m\n\u001b[1;32m      1\u001b[0m \u001b[0;31m# run cell to test your implementation\u001b[0m\u001b[0;34m\u001b[0m\u001b[0;34m\u001b[0m\u001b[0m\n\u001b[1;32m      2\u001b[0m \u001b[0;32massert\u001b[0m \u001b[0mnp\u001b[0m\u001b[0;34m.\u001b[0m\u001b[0mall\u001b[0m\u001b[0;34m(\u001b[0m\u001b[0mfig\u001b[0m\u001b[0;34m.\u001b[0m\u001b[0maxes\u001b[0m\u001b[0;34m[\u001b[0m\u001b[0;36m0\u001b[0m\u001b[0;34m]\u001b[0m\u001b[0;34m.\u001b[0m\u001b[0mxaxis\u001b[0m\u001b[0;34m.\u001b[0m\u001b[0mget_data_interval\u001b[0m\u001b[0;34m(\u001b[0m\u001b[0;34m)\u001b[0m \u001b[0;34m==\u001b[0m \u001b[0mnp\u001b[0m\u001b[0;34m.\u001b[0m\u001b[0marray\u001b[0m\u001b[0;34m(\u001b[0m\u001b[0;34m[\u001b[0m\u001b[0;36m0\u001b[0m\u001b[0;34m,\u001b[0m \u001b[0;36m616.36328125\u001b[0m\u001b[0;34m]\u001b[0m\u001b[0;34m)\u001b[0m\u001b[0;34m)\u001b[0m\u001b[0;34m,\u001b[0m \u001b[0;34m\"Check that you plot the ecg over the time vector\"\u001b[0m\u001b[0;34m\u001b[0m\u001b[0;34m\u001b[0m\u001b[0m\n\u001b[0;32m----> 3\u001b[0;31m \u001b[0;32massert\u001b[0m \u001b[0mfig\u001b[0m\u001b[0;34m.\u001b[0m\u001b[0maxes\u001b[0m\u001b[0;34m[\u001b[0m\u001b[0;36m0\u001b[0m\u001b[0;34m]\u001b[0m\u001b[0;34m.\u001b[0m\u001b[0myaxis\u001b[0m\u001b[0;34m.\u001b[0m\u001b[0mget_data_interval\u001b[0m\u001b[0;34m(\u001b[0m\u001b[0;34m)\u001b[0m\u001b[0;34m[\u001b[0m\u001b[0;36m0\u001b[0m\u001b[0;34m]\u001b[0m \u001b[0;34m<\u001b[0m \u001b[0;34m-\u001b[0m\u001b[0;36m4100\u001b[0m \u001b[0;32mand\u001b[0m \u001b[0mfig\u001b[0m\u001b[0;34m.\u001b[0m\u001b[0maxes\u001b[0m\u001b[0;34m[\u001b[0m\u001b[0;36m0\u001b[0m\u001b[0;34m]\u001b[0m\u001b[0;34m.\u001b[0m\u001b[0myaxis\u001b[0m\u001b[0;34m.\u001b[0m\u001b[0mget_data_interval\u001b[0m\u001b[0;34m(\u001b[0m\u001b[0;34m)\u001b[0m\u001b[0;34m[\u001b[0m\u001b[0;36m1\u001b[0m\u001b[0;34m]\u001b[0m \u001b[0;34m>\u001b[0m \u001b[0;36m30200\u001b[0m\u001b[0;34m,\u001b[0m \u001b[0;34m\"Check that you plot the cleaned version of ecg_1\"\u001b[0m\u001b[0;34m\u001b[0m\u001b[0;34m\u001b[0m\u001b[0m\n\u001b[0m\u001b[1;32m      4\u001b[0m \u001b[0;32massert\u001b[0m \u001b[0mlen\u001b[0m\u001b[0;34m(\u001b[0m\u001b[0;34m[\u001b[0m\u001b[0mchild\u001b[0m \u001b[0;32mfor\u001b[0m \u001b[0mchild\u001b[0m \u001b[0;32min\u001b[0m \u001b[0mfig\u001b[0m\u001b[0;34m.\u001b[0m\u001b[0maxes\u001b[0m\u001b[0;34m[\u001b[0m\u001b[0;36m0\u001b[0m\u001b[0;34m]\u001b[0m\u001b[0;34m.\u001b[0m\u001b[0mget_children\u001b[0m\u001b[0;34m(\u001b[0m\u001b[0;34m)\u001b[0m \u001b[0;32mif\u001b[0m \u001b[0mtype\u001b[0m\u001b[0;34m(\u001b[0m\u001b[0mchild\u001b[0m\u001b[0;34m)\u001b[0m \u001b[0;34m==\u001b[0m \u001b[0mmatplotlib\u001b[0m\u001b[0;34m.\u001b[0m\u001b[0mcollections\u001b[0m\u001b[0;34m.\u001b[0m\u001b[0mPathCollection\u001b[0m \u001b[0;32mor\u001b[0m \u001b[0mtype\u001b[0m\u001b[0;34m(\u001b[0m\u001b[0mchild\u001b[0m\u001b[0;34m)\u001b[0m \u001b[0;34m==\u001b[0m \u001b[0mmatplotlib\u001b[0m\u001b[0;34m.\u001b[0m\u001b[0mlines\u001b[0m\u001b[0;34m.\u001b[0m\u001b[0mLine2D\u001b[0m\u001b[0;34m]\u001b[0m\u001b[0;34m)\u001b[0m \u001b[0;34m>=\u001b[0m\u001b[0;36m2\u001b[0m\u001b[0;34m,\u001b[0m \u001b[0;34m\"Check if you visualized ecg and r peaks\"\u001b[0m\u001b[0;34m\u001b[0m\u001b[0;34m\u001b[0m\u001b[0m\n\u001b[1;32m      5\u001b[0m \u001b[0;32massert\u001b[0m \u001b[0mfig\u001b[0m\u001b[0;34m.\u001b[0m\u001b[0maxes\u001b[0m\u001b[0;34m[\u001b[0m\u001b[0;36m0\u001b[0m\u001b[0;34m]\u001b[0m\u001b[0;34m.\u001b[0m\u001b[0maxes\u001b[0m\u001b[0;34m.\u001b[0m\u001b[0mget_legend\u001b[0m\u001b[0;34m(\u001b[0m\u001b[0;34m)\u001b[0m \u001b[0;32mis\u001b[0m \u001b[0;32mnot\u001b[0m \u001b[0;32mNone\u001b[0m\u001b[0;34m,\u001b[0m \u001b[0;34m\"Check if you added a legend\"\u001b[0m\u001b[0;34m\u001b[0m\u001b[0;34m\u001b[0m\u001b[0m\n",
            "\u001b[0;31mAssertionError\u001b[0m: Check that you plot the cleaned version of ecg_1"
          ]
        }
      ],
      "source": [
        "# run cell to test your implementation\n",
        "assert np.all(fig.axes[0].xaxis.get_data_interval() == np.array([0, 616.36328125])), \"Check that you plot the ecg over the time vector\"\n",
        "assert fig.axes[0].yaxis.get_data_interval()[0] < -4100 and fig.axes[0].yaxis.get_data_interval()[1] > 30200, \"Check that you plot the cleaned version of ecg_1\"\n",
        "assert len([child for child in fig.axes[0].get_children() if type(child) == matplotlib.collections.PathCollection or type(child) == matplotlib.lines.Line2D]) >=2, \"Check if you visualized ecg and r peaks\"\n",
        "assert fig.axes[0].axes.get_legend() is not None, \"Check if you added a legend\"\n",
        "assert len(fig.axes[0].axes.get_legend().get_texts()) == 2, \"Check if you set a label for ecg and r peaks\"\n",
        "assert len(fig.axes[0].get_xlabel()) != 0 and len(fig.axes[0].get_ylabel()) != 0, \"Check your x and y labels\"\n",
        "assert len(fig.axes[0].title.get_text()), \"Check the  figure's title\""
      ]
    },
    {
      "cell_type": "markdown",
      "id": "9fbbd1a7-256e-4d48-b7af-d2faff0b383d",
      "metadata": {
        "tags": [],
        "id": "9fbbd1a7-256e-4d48-b7af-d2faff0b383d"
      },
      "source": [
        "#### 4. Create a function called ``calc_hr`` that takes ``r_peaks`` and ``fs`` as parameters and calculates the heart rate from ``r_peaks``:\n",
        "* ``r_peaks``: ``numpy.ndarray`` with R peak locations of an ecg as samples\n",
        "* ``fs``: sampling frequency of the ECG\n",
        "* The function should return an array containing the heart rate in beats per minute (bpm) for every RR interval individually"
      ]
    },
    {
      "cell_type": "code",
      "execution_count": null,
      "id": "8f1d5006-3a7c-4246-b96f-74df40fcc4ef",
      "metadata": {
        "deletable": false,
        "nbgrader": {
          "cell_type": "code",
          "checksum": "43a058c48b06b57d8945cc16939c1cab",
          "grade": false,
          "grade_id": "task_4",
          "locked": false,
          "schema_version": 3,
          "solution": true,
          "task": false
        },
        "tags": [],
        "id": "8f1d5006-3a7c-4246-b96f-74df40fcc4ef"
      },
      "outputs": [],
      "source": [
        "# YOUR CODE HERE\n",
        "raise NotImplementedError()"
      ]
    },
    {
      "cell_type": "code",
      "execution_count": null,
      "id": "692bc87b-4f44-4748-a8c4-9040fa449500",
      "metadata": {
        "deletable": false,
        "editable": false,
        "nbgrader": {
          "cell_type": "code",
          "checksum": "23db3fd54bce078abf01397db9c49305",
          "grade": true,
          "grade_id": "task_4_test",
          "locked": true,
          "points": 1,
          "schema_version": 3,
          "solution": false,
          "task": false
        },
        "tags": [],
        "id": "692bc87b-4f44-4748-a8c4-9040fa449500"
      },
      "outputs": [],
      "source": [
        "# run cell to test your implementation\n",
        "_, r_peaks = extract_r_peaks(ecg_1, fs)\n",
        "hr = calc_hr(r_peaks, fs)\n",
        "assert type(hr) == np.ndarray, \"Check that you return an array of heart rates\"\n",
        "assert len(hr) == 875, \"Check that you calculate the heart rate for every rr interval\"\n",
        "assert np.mean(hr) > 84 and np.mean(hr) < 86, \"Check that you convert the heart rate into beats per minute\""
      ]
    },
    {
      "cell_type": "markdown",
      "id": "f3fbf3c5-3f78-4ae9-bba8-63fef01f8e7d",
      "metadata": {
        "id": "f3fbf3c5-3f78-4ae9-bba8-63fef01f8e7d"
      },
      "source": [
        "#### 5. Create a function ``correct_outlier`` that takes ``hr`` as parameter and eliminates the outliers of ``hr``:\n",
        "* ``hr``: ``numpy.ndarray`` containing the heart rate in beats per minute (bpm) for every RR interval individually\n",
        "* The function should return an array that includes only those elements of ``hr`` which are within 2 standard deviations from the mean"
      ]
    },
    {
      "cell_type": "code",
      "execution_count": null,
      "id": "bbf79c39-d18b-4e35-9302-69a7acf5e8bc",
      "metadata": {
        "deletable": false,
        "nbgrader": {
          "cell_type": "code",
          "checksum": "d55cf67289db3ca6b1e7de05bfc72525",
          "grade": false,
          "grade_id": "task_5",
          "locked": false,
          "schema_version": 3,
          "solution": true,
          "task": false
        },
        "tags": [],
        "id": "bbf79c39-d18b-4e35-9302-69a7acf5e8bc"
      },
      "outputs": [],
      "source": [
        "# YOUR CODE HERE\n",
        "raise NotImplementedError()"
      ]
    },
    {
      "cell_type": "code",
      "execution_count": null,
      "id": "f57bc2bc-4e98-41b7-8d60-0d193e0bd6bb",
      "metadata": {
        "deletable": false,
        "editable": false,
        "nbgrader": {
          "cell_type": "code",
          "checksum": "cdf7aa958e3e670b36f24ae12865cd14",
          "grade": true,
          "grade_id": "task_5_test",
          "locked": true,
          "points": 1,
          "schema_version": 3,
          "solution": false,
          "task": false
        },
        "tags": [],
        "id": "f57bc2bc-4e98-41b7-8d60-0d193e0bd6bb"
      },
      "outputs": [],
      "source": [
        "# run cell to test your implementation\n",
        "_, r_peaks_1 = extract_r_peaks(ecg_1, fs)\n",
        "hr_1 = calc_hr(r_peaks_1, fs)\n",
        "hr_cleaned_1 = correct_outlier(hr_1)\n",
        "assert len(hr_cleaned_1) == 823, \"Check that you return an array which does not include the outliers\"\n",
        "assert np.max(hr_cleaned_1) < 102 and np.min(hr_cleaned_1) > 71, \"Check that you remove smaller and larger outliers\""
      ]
    },
    {
      "cell_type": "markdown",
      "id": "3e56ee69-081f-420f-aec0-118bb7a3e517",
      "metadata": {
        "id": "3e56ee69-081f-420f-aec0-118bb7a3e517"
      },
      "source": [
        "#### 6. Create a figure with two subplots that visualizes the heart rate **distribution** before and after outlier correction of ``ecg_1``. To do so:\n",
        "* Create a ``list`` called ``bins``which includes all values between 60 and 115 with stepsize 2 in between two consecutive numbers\n",
        "* Create a figure with appropriate size and two subplots next to each other using [matplotlib.pyplot.subplots](https://matplotlib.org/stable/api/_as_gen/matplotlib.pyplot.subplots.html). For easier usage afterward, save its return values in variables called ``fig`` and ``axs``.\n",
        "* Plot in the left subplot the histogram of the original heart rate distribution of ``ecg_1`` using ``bins``\n",
        "* Plot in the right subplot the histogram of the outlier corrected heart rate distribution of ``ecg_1`` using ``bins``\n",
        "* Set x- and y-axis labels as well as the titles for both subplots according to the data\n",
        "\n",
        "**Hint**: Check if the ``sharex`` and ``sharey`` parameters of [matplotlib.pyplot.subplots](https://matplotlib.org/stable/api/_as_gen/matplotlib.pyplot.subplots.html) can improve the comparability of your distributions."
      ]
    },
    {
      "cell_type": "code",
      "execution_count": null,
      "id": "a5baccb8-b7b3-4100-8587-c70cd1d275c5",
      "metadata": {
        "deletable": false,
        "nbgrader": {
          "cell_type": "code",
          "checksum": "1045b2b7fcc6e0a1e36287b8dcbccda8",
          "grade": false,
          "grade_id": "task_6",
          "locked": false,
          "schema_version": 3,
          "solution": true,
          "task": false
        },
        "tags": [],
        "id": "a5baccb8-b7b3-4100-8587-c70cd1d275c5"
      },
      "outputs": [],
      "source": [
        "# YOUR CODE HERE\n",
        "raise NotImplementedError()"
      ]
    },
    {
      "cell_type": "code",
      "execution_count": null,
      "id": "2ebf364d-8e33-402d-8d4c-ed39e3cfc3b7",
      "metadata": {
        "deletable": false,
        "editable": false,
        "nbgrader": {
          "cell_type": "code",
          "checksum": "14b6d77439488dc801eabc184f146efb",
          "grade": true,
          "grade_id": "task_6_test",
          "locked": true,
          "points": 2,
          "schema_version": 3,
          "solution": false,
          "task": false
        },
        "tags": [],
        "id": "2ebf364d-8e33-402d-8d4c-ed39e3cfc3b7"
      },
      "outputs": [],
      "source": [
        "# run cell to test your implementation\n",
        "assert len(bins) == 28 and bins[0] == 60 and bins[-1] == 114, \"Check your bin creation parameters and the endpoints\"\n",
        "assert len(fig.axes) == 2, \"Check that you created a figure with two subplots\"\n",
        "assert len([0 for child in fig.axes[0].get_children() + fig.axes[1].get_children() if type(child) == matplotlib.patches.Rectangle]) == 56, \"Check that you used the variable bins as the bins parameter\"\n",
        "val_1 = sum([child.get_height() for child in fig.axes[0].get_children()[:-1] if type(child) == matplotlib.patches.Rectangle])\n",
        "val_2 = sum([child.get_height() for child in fig.axes[1].get_children()[:-1] if type(child) == matplotlib.patches.Rectangle])\n",
        "assert val_1 != val_2, \"Check if you plot two different distributions\"\n",
        "assert len(fig.axes[0].get_xlabel()) != 0 and len(fig.axes[0].get_ylabel()) != 0, \"Check the left sublot's x and y labels\"\n",
        "assert len(fig.axes[1].get_xlabel()) != 0 and len(fig.axes[1].get_ylabel()) != 0, \"Check the right subplot's x and y labels\"\n",
        "assert len(fig.axes[0].title.get_text()), \"Check the left subplot's title\"\n",
        "assert len(fig.axes[1].title.get_text()), \"Check the right subplot's title\""
      ]
    },
    {
      "cell_type": "markdown",
      "id": "08badf8a-c47b-430d-8d04-24301d87dd67",
      "metadata": {
        "tags": [],
        "id": "08badf8a-c47b-430d-8d04-24301d87dd67"
      },
      "source": [
        "#### 7. Create a figure with two subplots that visualizes the heart rate distributions before and after outlier correction as box plots of ``ecg_1`` and ``ecg_2``. To do so:\n",
        "* Create a figure with appropriate size and two subplots next to each other. Save its return values in variables called ``fig`` and ``axs``.\n",
        "* Create in the left subplot two boxplots visualizing the original heart rate distributions of ``ecg_1`` and ``ecg_2``. Set the labels accordingly.\n",
        "* Create in the right subplot two boxplots visualizing the outlier corrected heart rate distributions of ``ecg_1`` and ``ecg_2``. Set the labels accordingly.\n",
        "* Set x- and y-axis labels as well as the titles for both subplots according to the data"
      ]
    },
    {
      "cell_type": "code",
      "execution_count": null,
      "id": "14d62cfe-2395-4f28-a0e2-480c3720b678",
      "metadata": {
        "deletable": false,
        "nbgrader": {
          "cell_type": "code",
          "checksum": "c87090dc555cbe17b3cc3d2c7aa5bff5",
          "grade": false,
          "grade_id": "task_7",
          "locked": false,
          "schema_version": 3,
          "solution": true,
          "task": false
        },
        "tags": [],
        "id": "14d62cfe-2395-4f28-a0e2-480c3720b678"
      },
      "outputs": [],
      "source": [
        "# YOUR CODE HERE\n",
        "raise NotImplementedError()"
      ]
    },
    {
      "cell_type": "code",
      "execution_count": null,
      "id": "d1659583-e744-4c01-bd3f-e5c0bfbda196",
      "metadata": {
        "deletable": false,
        "editable": false,
        "nbgrader": {
          "cell_type": "code",
          "checksum": "6a55b2c853d926d06c93c940838769e8",
          "grade": true,
          "grade_id": "task_7_test",
          "locked": true,
          "points": 2,
          "schema_version": 3,
          "solution": false,
          "task": false
        },
        "tags": [],
        "id": "d1659583-e744-4c01-bd3f-e5c0bfbda196"
      },
      "outputs": [],
      "source": [
        "# run cell to test your implementation\n",
        "assert len(fig.axes) == 2, \"Check that you created a figure with two subplots\"\n",
        "assert len([0 for child in fig.axes[0].get_children() if type(child) == matplotlib.lines.Line2D]) > 10, \"Check that you plot a boxplot in the left subplot\"\n",
        "assert len([0 for child in fig.axes[1].get_children() if type(child) == matplotlib.lines.Line2D]) > 10, \"Check that you plot a boxplot in the right subplot\"\n",
        "assert np.all(fig.axes[0].yaxis.get_data_interval() != fig.axes[1].yaxis.get_data_interval()), \"Check that you plot both datatset (original and corrected) separately in the two subplots\"\n",
        "assert fig.axes[0].get_xticklabels()[0].get_text() != \"1\" and fig.axes[1].get_xticklabels()[0].get_text() != \"2\", \"Check that you set the labels in the left subplot\"\n",
        "assert fig.axes[1].get_xticklabels()[0].get_text() != \"1\" and fig.axes[1].get_xticklabels()[0].get_text() != \"2\", \"Check that you set the labels in the right subplot\"\n",
        "assert len(fig.axes[0].get_xlabel()) != 0 and len(fig.axes[0].get_ylabel()) != 0, \"Check the left sublot's x and y labels\"\n",
        "assert len(fig.axes[1].get_xlabel()) != 0 and len(fig.axes[1].get_ylabel()) != 0, \"Check the right subplot's x and y labels\"\n",
        "assert len(fig.axes[0].title.get_text()), \"Check the left subplot's title\"\n",
        "assert len(fig.axes[1].title.get_text()), \"Check the right subplot's title\""
      ]
    },
    {
      "cell_type": "code",
      "execution_count": null,
      "id": "d935de0c-8d82-43e8-89e2-cbf8bae07ff0",
      "metadata": {
        "tags": [],
        "id": "d935de0c-8d82-43e8-89e2-cbf8bae07ff0"
      },
      "outputs": [],
      "source": []
    }
  ],
  "metadata": {
    "kernelspec": {
      "display_name": "Python 3",
      "name": "python3"
    },
    "language_info": {
      "name": "python"
    },
    "colab": {
      "provenance": [],
      "include_colab_link": true
    },
    "widgets": {
      "application/vnd.jupyter.widget-state+json": {
        "94a9031b3a6946fc87f2e8c1425e30bf": {
          "model_module": "@jupyter-widgets/controls",
          "model_name": "HBoxModel",
          "model_module_version": "1.5.0",
          "state": {
            "_dom_classes": [],
            "_model_module": "@jupyter-widgets/controls",
            "_model_module_version": "1.5.0",
            "_model_name": "HBoxModel",
            "_view_count": null,
            "_view_module": "@jupyter-widgets/controls",
            "_view_module_version": "1.5.0",
            "_view_name": "HBoxView",
            "box_style": "",
            "children": [
              "IPY_MODEL_969762a9a26f40cd8e92a2e479225519",
              "IPY_MODEL_561f773fbeea4452a7688c9e18021658",
              "IPY_MODEL_3f356ddd27dc4cc88e15699f2d185fef"
            ],
            "layout": "IPY_MODEL_cb13041fe4f64d1d92368159616de755"
          }
        },
        "969762a9a26f40cd8e92a2e479225519": {
          "model_module": "@jupyter-widgets/controls",
          "model_name": "HTMLModel",
          "model_module_version": "1.5.0",
          "state": {
            "_dom_classes": [],
            "_model_module": "@jupyter-widgets/controls",
            "_model_module_version": "1.5.0",
            "_model_name": "HTMLModel",
            "_view_count": null,
            "_view_module": "@jupyter-widgets/controls",
            "_view_module_version": "1.5.0",
            "_view_name": "HTMLView",
            "description": "",
            "description_tooltip": null,
            "layout": "IPY_MODEL_bd43b48d417246f69e21e3986f7c2980",
            "placeholder": "​",
            "style": "IPY_MODEL_2f98f86874574894aebc5642a8271697",
            "value": "ecg/ecg_sample_Vp01.bin: "
          }
        },
        "561f773fbeea4452a7688c9e18021658": {
          "model_module": "@jupyter-widgets/controls",
          "model_name": "FloatProgressModel",
          "model_module_version": "1.5.0",
          "state": {
            "_dom_classes": [],
            "_model_module": "@jupyter-widgets/controls",
            "_model_module_version": "1.5.0",
            "_model_name": "FloatProgressModel",
            "_view_count": null,
            "_view_module": "@jupyter-widgets/controls",
            "_view_module_version": "1.5.0",
            "_view_name": "ProgressView",
            "bar_style": "success",
            "description": "",
            "description_tooltip": null,
            "layout": "IPY_MODEL_b148e13065b846398dc8194b7e12c2eb",
            "max": 1,
            "min": 0,
            "orientation": "horizontal",
            "style": "IPY_MODEL_9fbaf0f99fb64fad980c72d9d972be6c",
            "value": 1
          }
        },
        "3f356ddd27dc4cc88e15699f2d185fef": {
          "model_module": "@jupyter-widgets/controls",
          "model_name": "HTMLModel",
          "model_module_version": "1.5.0",
          "state": {
            "_dom_classes": [],
            "_model_module": "@jupyter-widgets/controls",
            "_model_module_version": "1.5.0",
            "_model_name": "HTMLModel",
            "_view_count": null,
            "_view_module": "@jupyter-widgets/controls",
            "_view_module_version": "1.5.0",
            "_view_name": "HTMLView",
            "description": "",
            "description_tooltip": null,
            "layout": "IPY_MODEL_d41be72a03624d438ac26734dcf0b18a",
            "placeholder": "​",
            "style": "IPY_MODEL_e59e35d3bfee49be997611591c681970",
            "value": " 3.02M/? [00:01&lt;00:00, 2.35MB/s]"
          }
        },
        "cb13041fe4f64d1d92368159616de755": {
          "model_module": "@jupyter-widgets/base",
          "model_name": "LayoutModel",
          "model_module_version": "1.2.0",
          "state": {
            "_model_module": "@jupyter-widgets/base",
            "_model_module_version": "1.2.0",
            "_model_name": "LayoutModel",
            "_view_count": null,
            "_view_module": "@jupyter-widgets/base",
            "_view_module_version": "1.2.0",
            "_view_name": "LayoutView",
            "align_content": null,
            "align_items": null,
            "align_self": null,
            "border": null,
            "bottom": null,
            "display": null,
            "flex": null,
            "flex_flow": null,
            "grid_area": null,
            "grid_auto_columns": null,
            "grid_auto_flow": null,
            "grid_auto_rows": null,
            "grid_column": null,
            "grid_gap": null,
            "grid_row": null,
            "grid_template_areas": null,
            "grid_template_columns": null,
            "grid_template_rows": null,
            "height": null,
            "justify_content": null,
            "justify_items": null,
            "left": null,
            "margin": null,
            "max_height": null,
            "max_width": null,
            "min_height": null,
            "min_width": null,
            "object_fit": null,
            "object_position": null,
            "order": null,
            "overflow": null,
            "overflow_x": null,
            "overflow_y": null,
            "padding": null,
            "right": null,
            "top": null,
            "visibility": null,
            "width": null
          }
        },
        "bd43b48d417246f69e21e3986f7c2980": {
          "model_module": "@jupyter-widgets/base",
          "model_name": "LayoutModel",
          "model_module_version": "1.2.0",
          "state": {
            "_model_module": "@jupyter-widgets/base",
            "_model_module_version": "1.2.0",
            "_model_name": "LayoutModel",
            "_view_count": null,
            "_view_module": "@jupyter-widgets/base",
            "_view_module_version": "1.2.0",
            "_view_name": "LayoutView",
            "align_content": null,
            "align_items": null,
            "align_self": null,
            "border": null,
            "bottom": null,
            "display": null,
            "flex": null,
            "flex_flow": null,
            "grid_area": null,
            "grid_auto_columns": null,
            "grid_auto_flow": null,
            "grid_auto_rows": null,
            "grid_column": null,
            "grid_gap": null,
            "grid_row": null,
            "grid_template_areas": null,
            "grid_template_columns": null,
            "grid_template_rows": null,
            "height": null,
            "justify_content": null,
            "justify_items": null,
            "left": null,
            "margin": null,
            "max_height": null,
            "max_width": null,
            "min_height": null,
            "min_width": null,
            "object_fit": null,
            "object_position": null,
            "order": null,
            "overflow": null,
            "overflow_x": null,
            "overflow_y": null,
            "padding": null,
            "right": null,
            "top": null,
            "visibility": null,
            "width": null
          }
        },
        "2f98f86874574894aebc5642a8271697": {
          "model_module": "@jupyter-widgets/controls",
          "model_name": "DescriptionStyleModel",
          "model_module_version": "1.5.0",
          "state": {
            "_model_module": "@jupyter-widgets/controls",
            "_model_module_version": "1.5.0",
            "_model_name": "DescriptionStyleModel",
            "_view_count": null,
            "_view_module": "@jupyter-widgets/base",
            "_view_module_version": "1.2.0",
            "_view_name": "StyleView",
            "description_width": ""
          }
        },
        "b148e13065b846398dc8194b7e12c2eb": {
          "model_module": "@jupyter-widgets/base",
          "model_name": "LayoutModel",
          "model_module_version": "1.2.0",
          "state": {
            "_model_module": "@jupyter-widgets/base",
            "_model_module_version": "1.2.0",
            "_model_name": "LayoutModel",
            "_view_count": null,
            "_view_module": "@jupyter-widgets/base",
            "_view_module_version": "1.2.0",
            "_view_name": "LayoutView",
            "align_content": null,
            "align_items": null,
            "align_self": null,
            "border": null,
            "bottom": null,
            "display": null,
            "flex": null,
            "flex_flow": null,
            "grid_area": null,
            "grid_auto_columns": null,
            "grid_auto_flow": null,
            "grid_auto_rows": null,
            "grid_column": null,
            "grid_gap": null,
            "grid_row": null,
            "grid_template_areas": null,
            "grid_template_columns": null,
            "grid_template_rows": null,
            "height": null,
            "justify_content": null,
            "justify_items": null,
            "left": null,
            "margin": null,
            "max_height": null,
            "max_width": null,
            "min_height": null,
            "min_width": null,
            "object_fit": null,
            "object_position": null,
            "order": null,
            "overflow": null,
            "overflow_x": null,
            "overflow_y": null,
            "padding": null,
            "right": null,
            "top": null,
            "visibility": null,
            "width": "20px"
          }
        },
        "9fbaf0f99fb64fad980c72d9d972be6c": {
          "model_module": "@jupyter-widgets/controls",
          "model_name": "ProgressStyleModel",
          "model_module_version": "1.5.0",
          "state": {
            "_model_module": "@jupyter-widgets/controls",
            "_model_module_version": "1.5.0",
            "_model_name": "ProgressStyleModel",
            "_view_count": null,
            "_view_module": "@jupyter-widgets/base",
            "_view_module_version": "1.2.0",
            "_view_name": "StyleView",
            "bar_color": null,
            "description_width": ""
          }
        },
        "d41be72a03624d438ac26734dcf0b18a": {
          "model_module": "@jupyter-widgets/base",
          "model_name": "LayoutModel",
          "model_module_version": "1.2.0",
          "state": {
            "_model_module": "@jupyter-widgets/base",
            "_model_module_version": "1.2.0",
            "_model_name": "LayoutModel",
            "_view_count": null,
            "_view_module": "@jupyter-widgets/base",
            "_view_module_version": "1.2.0",
            "_view_name": "LayoutView",
            "align_content": null,
            "align_items": null,
            "align_self": null,
            "border": null,
            "bottom": null,
            "display": null,
            "flex": null,
            "flex_flow": null,
            "grid_area": null,
            "grid_auto_columns": null,
            "grid_auto_flow": null,
            "grid_auto_rows": null,
            "grid_column": null,
            "grid_gap": null,
            "grid_row": null,
            "grid_template_areas": null,
            "grid_template_columns": null,
            "grid_template_rows": null,
            "height": null,
            "justify_content": null,
            "justify_items": null,
            "left": null,
            "margin": null,
            "max_height": null,
            "max_width": null,
            "min_height": null,
            "min_width": null,
            "object_fit": null,
            "object_position": null,
            "order": null,
            "overflow": null,
            "overflow_x": null,
            "overflow_y": null,
            "padding": null,
            "right": null,
            "top": null,
            "visibility": null,
            "width": null
          }
        },
        "e59e35d3bfee49be997611591c681970": {
          "model_module": "@jupyter-widgets/controls",
          "model_name": "DescriptionStyleModel",
          "model_module_version": "1.5.0",
          "state": {
            "_model_module": "@jupyter-widgets/controls",
            "_model_module_version": "1.5.0",
            "_model_name": "DescriptionStyleModel",
            "_view_count": null,
            "_view_module": "@jupyter-widgets/base",
            "_view_module_version": "1.2.0",
            "_view_name": "StyleView",
            "description_width": ""
          }
        },
        "b4b56bfd03054f23a20c8aa8a8506e7b": {
          "model_module": "@jupyter-widgets/controls",
          "model_name": "HBoxModel",
          "model_module_version": "1.5.0",
          "state": {
            "_dom_classes": [],
            "_model_module": "@jupyter-widgets/controls",
            "_model_module_version": "1.5.0",
            "_model_name": "HBoxModel",
            "_view_count": null,
            "_view_module": "@jupyter-widgets/controls",
            "_view_module_version": "1.5.0",
            "_view_name": "HBoxView",
            "box_style": "",
            "children": [
              "IPY_MODEL_aa8b27b518e547d88c447a932ea9b451",
              "IPY_MODEL_58ca6af60e2f4e51adeb6df13ce04393",
              "IPY_MODEL_76dad40459474ee0865bebb7d867f6af"
            ],
            "layout": "IPY_MODEL_ac39c245c1a547c28b5f84b27fff20bb"
          }
        },
        "aa8b27b518e547d88c447a932ea9b451": {
          "model_module": "@jupyter-widgets/controls",
          "model_name": "HTMLModel",
          "model_module_version": "1.5.0",
          "state": {
            "_dom_classes": [],
            "_model_module": "@jupyter-widgets/controls",
            "_model_module_version": "1.5.0",
            "_model_name": "HTMLModel",
            "_view_count": null,
            "_view_module": "@jupyter-widgets/controls",
            "_view_module_version": "1.5.0",
            "_view_name": "HTMLView",
            "description": "",
            "description_tooltip": null,
            "layout": "IPY_MODEL_78c34bb130e64278b7a675b7331e622c",
            "placeholder": "​",
            "style": "IPY_MODEL_629e6aacd7d343dea61c16fdb7889cd5",
            "value": "ecg/ecg_sample_Vp02.bin: "
          }
        },
        "58ca6af60e2f4e51adeb6df13ce04393": {
          "model_module": "@jupyter-widgets/controls",
          "model_name": "FloatProgressModel",
          "model_module_version": "1.5.0",
          "state": {
            "_dom_classes": [],
            "_model_module": "@jupyter-widgets/controls",
            "_model_module_version": "1.5.0",
            "_model_name": "FloatProgressModel",
            "_view_count": null,
            "_view_module": "@jupyter-widgets/controls",
            "_view_module_version": "1.5.0",
            "_view_name": "ProgressView",
            "bar_style": "success",
            "description": "",
            "description_tooltip": null,
            "layout": "IPY_MODEL_fe1fe8d6785448f487dc1ebd60f5291b",
            "max": 1,
            "min": 0,
            "orientation": "horizontal",
            "style": "IPY_MODEL_12a6e440e8214ea88d472d3143497f58",
            "value": 1
          }
        },
        "76dad40459474ee0865bebb7d867f6af": {
          "model_module": "@jupyter-widgets/controls",
          "model_name": "HTMLModel",
          "model_module_version": "1.5.0",
          "state": {
            "_dom_classes": [],
            "_model_module": "@jupyter-widgets/controls",
            "_model_module_version": "1.5.0",
            "_model_name": "HTMLModel",
            "_view_count": null,
            "_view_module": "@jupyter-widgets/controls",
            "_view_module_version": "1.5.0",
            "_view_name": "HTMLView",
            "description": "",
            "description_tooltip": null,
            "layout": "IPY_MODEL_a7896fd40ff546ccb84d25ef1f2ee1d2",
            "placeholder": "​",
            "style": "IPY_MODEL_3d81d39047aa4721bd8e6945503d02f9",
            "value": " 2.30M/? [00:00&lt;00:00, 2.96MB/s]"
          }
        },
        "ac39c245c1a547c28b5f84b27fff20bb": {
          "model_module": "@jupyter-widgets/base",
          "model_name": "LayoutModel",
          "model_module_version": "1.2.0",
          "state": {
            "_model_module": "@jupyter-widgets/base",
            "_model_module_version": "1.2.0",
            "_model_name": "LayoutModel",
            "_view_count": null,
            "_view_module": "@jupyter-widgets/base",
            "_view_module_version": "1.2.0",
            "_view_name": "LayoutView",
            "align_content": null,
            "align_items": null,
            "align_self": null,
            "border": null,
            "bottom": null,
            "display": null,
            "flex": null,
            "flex_flow": null,
            "grid_area": null,
            "grid_auto_columns": null,
            "grid_auto_flow": null,
            "grid_auto_rows": null,
            "grid_column": null,
            "grid_gap": null,
            "grid_row": null,
            "grid_template_areas": null,
            "grid_template_columns": null,
            "grid_template_rows": null,
            "height": null,
            "justify_content": null,
            "justify_items": null,
            "left": null,
            "margin": null,
            "max_height": null,
            "max_width": null,
            "min_height": null,
            "min_width": null,
            "object_fit": null,
            "object_position": null,
            "order": null,
            "overflow": null,
            "overflow_x": null,
            "overflow_y": null,
            "padding": null,
            "right": null,
            "top": null,
            "visibility": null,
            "width": null
          }
        },
        "78c34bb130e64278b7a675b7331e622c": {
          "model_module": "@jupyter-widgets/base",
          "model_name": "LayoutModel",
          "model_module_version": "1.2.0",
          "state": {
            "_model_module": "@jupyter-widgets/base",
            "_model_module_version": "1.2.0",
            "_model_name": "LayoutModel",
            "_view_count": null,
            "_view_module": "@jupyter-widgets/base",
            "_view_module_version": "1.2.0",
            "_view_name": "LayoutView",
            "align_content": null,
            "align_items": null,
            "align_self": null,
            "border": null,
            "bottom": null,
            "display": null,
            "flex": null,
            "flex_flow": null,
            "grid_area": null,
            "grid_auto_columns": null,
            "grid_auto_flow": null,
            "grid_auto_rows": null,
            "grid_column": null,
            "grid_gap": null,
            "grid_row": null,
            "grid_template_areas": null,
            "grid_template_columns": null,
            "grid_template_rows": null,
            "height": null,
            "justify_content": null,
            "justify_items": null,
            "left": null,
            "margin": null,
            "max_height": null,
            "max_width": null,
            "min_height": null,
            "min_width": null,
            "object_fit": null,
            "object_position": null,
            "order": null,
            "overflow": null,
            "overflow_x": null,
            "overflow_y": null,
            "padding": null,
            "right": null,
            "top": null,
            "visibility": null,
            "width": null
          }
        },
        "629e6aacd7d343dea61c16fdb7889cd5": {
          "model_module": "@jupyter-widgets/controls",
          "model_name": "DescriptionStyleModel",
          "model_module_version": "1.5.0",
          "state": {
            "_model_module": "@jupyter-widgets/controls",
            "_model_module_version": "1.5.0",
            "_model_name": "DescriptionStyleModel",
            "_view_count": null,
            "_view_module": "@jupyter-widgets/base",
            "_view_module_version": "1.2.0",
            "_view_name": "StyleView",
            "description_width": ""
          }
        },
        "fe1fe8d6785448f487dc1ebd60f5291b": {
          "model_module": "@jupyter-widgets/base",
          "model_name": "LayoutModel",
          "model_module_version": "1.2.0",
          "state": {
            "_model_module": "@jupyter-widgets/base",
            "_model_module_version": "1.2.0",
            "_model_name": "LayoutModel",
            "_view_count": null,
            "_view_module": "@jupyter-widgets/base",
            "_view_module_version": "1.2.0",
            "_view_name": "LayoutView",
            "align_content": null,
            "align_items": null,
            "align_self": null,
            "border": null,
            "bottom": null,
            "display": null,
            "flex": null,
            "flex_flow": null,
            "grid_area": null,
            "grid_auto_columns": null,
            "grid_auto_flow": null,
            "grid_auto_rows": null,
            "grid_column": null,
            "grid_gap": null,
            "grid_row": null,
            "grid_template_areas": null,
            "grid_template_columns": null,
            "grid_template_rows": null,
            "height": null,
            "justify_content": null,
            "justify_items": null,
            "left": null,
            "margin": null,
            "max_height": null,
            "max_width": null,
            "min_height": null,
            "min_width": null,
            "object_fit": null,
            "object_position": null,
            "order": null,
            "overflow": null,
            "overflow_x": null,
            "overflow_y": null,
            "padding": null,
            "right": null,
            "top": null,
            "visibility": null,
            "width": "20px"
          }
        },
        "12a6e440e8214ea88d472d3143497f58": {
          "model_module": "@jupyter-widgets/controls",
          "model_name": "ProgressStyleModel",
          "model_module_version": "1.5.0",
          "state": {
            "_model_module": "@jupyter-widgets/controls",
            "_model_module_version": "1.5.0",
            "_model_name": "ProgressStyleModel",
            "_view_count": null,
            "_view_module": "@jupyter-widgets/base",
            "_view_module_version": "1.2.0",
            "_view_name": "StyleView",
            "bar_color": null,
            "description_width": ""
          }
        },
        "a7896fd40ff546ccb84d25ef1f2ee1d2": {
          "model_module": "@jupyter-widgets/base",
          "model_name": "LayoutModel",
          "model_module_version": "1.2.0",
          "state": {
            "_model_module": "@jupyter-widgets/base",
            "_model_module_version": "1.2.0",
            "_model_name": "LayoutModel",
            "_view_count": null,
            "_view_module": "@jupyter-widgets/base",
            "_view_module_version": "1.2.0",
            "_view_name": "LayoutView",
            "align_content": null,
            "align_items": null,
            "align_self": null,
            "border": null,
            "bottom": null,
            "display": null,
            "flex": null,
            "flex_flow": null,
            "grid_area": null,
            "grid_auto_columns": null,
            "grid_auto_flow": null,
            "grid_auto_rows": null,
            "grid_column": null,
            "grid_gap": null,
            "grid_row": null,
            "grid_template_areas": null,
            "grid_template_columns": null,
            "grid_template_rows": null,
            "height": null,
            "justify_content": null,
            "justify_items": null,
            "left": null,
            "margin": null,
            "max_height": null,
            "max_width": null,
            "min_height": null,
            "min_width": null,
            "object_fit": null,
            "object_position": null,
            "order": null,
            "overflow": null,
            "overflow_x": null,
            "overflow_y": null,
            "padding": null,
            "right": null,
            "top": null,
            "visibility": null,
            "width": null
          }
        },
        "3d81d39047aa4721bd8e6945503d02f9": {
          "model_module": "@jupyter-widgets/controls",
          "model_name": "DescriptionStyleModel",
          "model_module_version": "1.5.0",
          "state": {
            "_model_module": "@jupyter-widgets/controls",
            "_model_module_version": "1.5.0",
            "_model_name": "DescriptionStyleModel",
            "_view_count": null,
            "_view_module": "@jupyter-widgets/base",
            "_view_module_version": "1.2.0",
            "_view_name": "StyleView",
            "description_width": ""
          }
        },
        "c44238a987a34203881251d1b3c7ae1d": {
          "model_module": "jupyter-matplotlib",
          "model_name": "MPLCanvasModel",
          "model_module_version": "^0.11",
          "state": {
            "_cursor": "pointer",
            "_data_url": "data:image/png;base64,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",
            "_dom_classes": [],
            "_figure_label": "Figure",
            "_image_mode": "full",
            "_message": "",
            "_model_module": "jupyter-matplotlib",
            "_model_module_version": "^0.11",
            "_model_name": "MPLCanvasModel",
            "_rubberband_height": 0,
            "_rubberband_width": 0,
            "_rubberband_x": 0,
            "_rubberband_y": 0,
            "_size": [
              800,
              300
            ],
            "_view_count": null,
            "_view_module": "jupyter-matplotlib",
            "_view_module_version": "^0.11",
            "_view_name": "MPLCanvasView",
            "capture_scroll": false,
            "footer_visible": true,
            "header_visible": true,
            "layout": "IPY_MODEL_8af5c99de4ce4577944ced994fc27310",
            "pan_zoom_throttle": 33,
            "resizable": true,
            "toolbar": "IPY_MODEL_ba80f4e6ffbf4dff94a3cf9029d5d2b4",
            "toolbar_position": "left",
            "toolbar_visible": "fade-in-fade-out"
          }
        },
        "66a8bc71f57d4b9c9e6681c7ed87cd3d": {
          "model_module": "jupyter-matplotlib",
          "model_name": "MPLCanvasModel",
          "model_module_version": "^0.11",
          "state": {
            "_cursor": "pointer",
            "_data_url": "data:image/png;base64,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",
            "_dom_classes": [],
            "_figure_label": "Figure",
            "_image_mode": "full",
            "_message": "",
            "_model_module": "jupyter-matplotlib",
            "_model_module_version": "^0.11",
            "_model_name": "MPLCanvasModel",
            "_rubberband_height": 0,
            "_rubberband_width": 0,
            "_rubberband_x": 0,
            "_rubberband_y": 0,
            "_size": [
              1000,
              400
            ],
            "_view_count": null,
            "_view_module": "jupyter-matplotlib",
            "_view_module_version": "^0.11",
            "_view_name": "MPLCanvasView",
            "capture_scroll": false,
            "footer_visible": true,
            "header_visible": true,
            "layout": "IPY_MODEL_577720fcdf354b97814c82736117a355",
            "pan_zoom_throttle": 33,
            "resizable": true,
            "toolbar": "IPY_MODEL_72debb0959e341a7b72fec85909e343d",
            "toolbar_position": "left",
            "toolbar_visible": "fade-in-fade-out"
          }
        }
      }
    }
  },
  "nbformat": 4,
  "nbformat_minor": 5
}