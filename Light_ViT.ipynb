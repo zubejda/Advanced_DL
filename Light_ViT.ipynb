{
  "cells": [
    {
      "cell_type": "markdown",
      "metadata": {
        "id": "X2Fea5_C07ms"
      },
      "source": [
        "![alternatvie text](https://www.doc.zuv.fau.de//M/FAU-Logo/01_FAU_Kernmarke/Web/FAU_Kernmarke_Q_RGB_blue.svg)\n"
      ]
    },
    {
      "cell_type": "markdown",
      "metadata": {
        "id": "v06vGA9B07mu"
      },
      "source": [
        "# Assignment 2: Visual Transformers\n",
        "<center><img src=\"https://production-media.paperswithcode.com/methods/Screen_Shot_2021-01-26_at_9.43.31_PM_uI4jjMq.png\" alt=\"Alternative text\"/></center>\n",
        "<center><figcaption>Fig 1. Dosovitskiy, Alexey, et al. \"An image is worth 16x16 words: Transformers for image recognition at scale.\"https://arxiv.org/pdf/2010.11929.pdf. </figcaption></center>                 \n",
        "\n",
        "\n",
        "In the lecture, transformers have been studied in the context of sequence-to-sequence modelling applications like natural language processing (NLP). Their superior performance to LSTM-based Recurrant neural network gained them a powerful reputation, thanks to their ability to model long sequences. A couple of years ago, transformers have been adapted to the [visual domain](https://arxiv.org/abs/2010.11929) and suprisingly demonstrated better performance compared to the long standing convolutional neural networks conditioned to large-scale datasets. Thanks to their ability to capture global semantic relationships in an image, unlike, CNNs which capture local information within the vicinty of the convolutional kernel window.\n",
        "\n",
        "In this assignment, you'll be asked first to implement the building blocks of visual transformers (LightViT). Afterwards, you'll train them on classification task using MNIST and Fashion-MNIST datasets.\n"
      ]
    },
    {
      "cell_type": "code",
      "execution_count": 4,
      "metadata": {
        "ExecuteTime": {
          "end_time": "2024-06-13T13:06:01.027071Z",
          "start_time": "2024-06-13T13:06:00.696547Z"
        },
        "id": "K5AeR1j407mv"
      },
      "outputs": [],
      "source": [
        "import torch.nn as nn\n",
        "import torch\n",
        "\n",
        "class LightViT(nn.Module):\n",
        "  def __init__(self, image_dim, n_patches=7, n_blocks=2, d=8, n_heads=2, num_classes=10):\n",
        "    super(LightViT, self).__init__()\n",
        "\n",
        "    ## Class Members\n",
        "    self.image_dim = image_dim\n",
        "    self.n_patches = n_patches\n",
        "    self.n_blocks = n_blocks\n",
        "    self.d = d\n",
        "    self.n_heads = n_heads\n",
        "    self.num_classes = num_classes\n",
        "\n",
        "    ## 1B) Linear Mapping\n",
        "    self.patch_size = self.image_dim // self.n_patches\n",
        "    self.linear_map = nn.Linear(self.patch_size **2, self.d)\n",
        "    ## 2A) Learnable Parameter\n",
        "    self.cls_token = nn.Parameter(torch.randn(1, 1, d));\n",
        "    ## 2B) Positional embedding\n",
        "    self.pos_embed = nn.Parameter(torch.zeros(1, 1 + n_patches * n_patches, d));\n",
        "    ## 3) Encoder blocks\n",
        "    self.encoder_blocks = nn.ModuleList([\n",
        "        TransformerBlock(d, n_heads, d * 4) for _ in range(n_blocks)\n",
        "    ])\n",
        "\n",
        "    # 5) Classification Head\n",
        "    self.classifier = nn.Linear(d, num_classes)\n",
        "  def forward(self, images):\n",
        "    b = images.shape[0]\n",
        "\n",
        "    ## Extract patches\n",
        "    pat = patches(images, p=self.n_patches)\n",
        "\n",
        "    ## Linear mapping\n",
        "    lin_out = self.linear_map(pat)\n",
        "\n",
        "    ## Add classification token\n",
        "    add_token = self.cls_token.expand(b, -1, -1)  # Expand to batch size\n",
        "    token_out = torch.cat((add_token, lin_out), dim=1)\n",
        "\n",
        "    ## Add positional embeddings\n",
        "\n",
        "    ## Pass through encoder\n",
        "\n",
        "    ## Get classification token\n",
        "\n",
        "    ## Pass through classifier\n",
        "\n",
        "    batch_size = x.size(0)\n",
        "    Q = self.q_linear(x).view(batch_size, -1, self.n_heads, self.d_head).transpose(1, 2)\n",
        "    K = self.k_linear(x).view(batch_size, -1, self.n_heads, self.d_head).transpose(1, 2)\n",
        "    V = self.v_linear(x).view(batch_size, -1, self.n_heads, self.d_head).transpose(1, 2)\n",
        "\n",
        "    scores = torch.matmul(Q, K.transpose(-2, -1)) * self.scale\n",
        "    attn = torch.softmax(scores, dim=-1)\n",
        "    context = torch.matmul(attn, V).transpose(1, 2).contiguous().view(batch_size, -1, self.d)\n",
        "\n",
        "    return self.out(context)"
      ]
    },
    {
      "cell_type": "markdown",
      "metadata": {
        "id": "5TlzvgA607mx"
      },
      "source": [
        "## 1. Image Patches and Linear Mapping\n",
        "\n",
        "### A) Image Patches\n",
        "Transfomers were initially created to process sequential data. In case of images, a sequence can be created through extracting patches. To do so, a crop window should be used with a defined window height and width. The dimension of data is originally in the format of *(B,C,H,W)*, when transorfmed into patches and then flattened we get *(B, PxP, (HxC/P)x(WxC/P))*, where *B* is the batch size and *PxP* is total number of patches in an image. In this example, you can set P=7.\n",
        "\n",
        "\n",
        "*Output*: A function that extracts image patches. The output format should have a shape of (B,49,16). The function will be used inside *LightViT* class."
      ]
    },
    {
      "cell_type": "code",
      "execution_count": 3,
      "metadata": {
        "id": "aUZGyY5_07mx"
      },
      "outputs": [],
      "source": [
        "def patches(x, p=7):\n",
        "    b, c, h, w = x.shape\n",
        "    x = x.unfold(2, p, p).unfold(3, p, p)  # Unfold to patches\n",
        "    x = x.permute(0, 2, 3, 1, 4, 5).contiguous()  # Rearrange dimensions\n",
        "    x = x.view(b, -1, c * p * p)  # Flatten each patch\n",
        "    return x"
      ]
    },
    {
      "cell_type": "markdown",
      "metadata": {
        "id": "NALCxR6z07my"
      },
      "source": [
        "### B) Linear Mapping\n",
        "\n",
        "Afterwards, the input are mapped using a linear layer to an output with dimension *d* i.e. *(B, PxP, (HxC/P)x(WxC/P))* &rarr; *(B, PxP, d)*. The variable d can be freely chosen, however, we set here to 8.\n",
        "\n",
        "*Output*: A linear layer should be added inside *LightViT* class with the correct input and output dimensions, the output from the linear layer should have a dimension of (B,49,8)."
      ]
    },
    {
      "cell_type": "markdown",
      "metadata": {
        "id": "IBVirGTB07my"
      },
      "source": [
        "## 2. Insert Classifier Token and Positional embeddings\n",
        "\n",
        "### A) Classifier Token"
      ]
    },
    {
      "cell_type": "markdown",
      "metadata": {
        "id": "raqOxru907my"
      },
      "source": [
        "Beside the image patches, also known as tokens, an additional special token is appended to the the input to capture desired information about other tokens to learn the task at hand. Lateron, this token will be used as input to the classifier to determine the class of the input image. To add the token to the input is equivilant to concatentating a learnable parameter with a vector of the same dimension *d* to the image tokens.\n",
        "\n",
        "*Output* A randomly initialised learnable parameter to be implemented inside *LightViT* class. You can use [PyTorch built-in function](https://pytorch.org/docs/stable/generated/torch.nn.parameter.Parameter.html) to create a PyTorch parameter."
      ]
    },
    {
      "cell_type": "markdown",
      "metadata": {
        "id": "JECVci-A07my"
      },
      "source": [
        "### B) Positional Embedding\n",
        "\n",
        "To preserve the context of an image, positional embeddings are associated with each image patch. Positional embeddings encodes the patch positions using sinusoidal waves, however, there are other techniques. We follow the definition of positional encoding in the original transformer paper of [Vaswani et. al](https://arxiv.org/abs/1706.03762), which sinusoidal waves. You'll be required to implement a function that creates embeddings for each coordinate of every image patch."
      ]
    },
    {
      "cell_type": "markdown",
      "metadata": {
        "id": "zTlU84-_07my"
      },
      "source": [
        "*Output* Inside *LightViT* class, implement a function that fetches the embedding and encapuslate it inside a non-learnable parameter."
      ]
    },
    {
      "cell_type": "code",
      "execution_count": null,
      "metadata": {
        "id": "BK0_DrJO07mz"
      },
      "outputs": [],
      "source": [
        "def get_pos_embeddings():\n",
        "    pass"
      ]
    },
    {
      "cell_type": "markdown",
      "metadata": {
        "id": "lWfuMKvX07mz"
      },
      "source": [
        "## 3. Encoder Block\n",
        "\n",
        "<center><img src=\"https://machinelearningmastery.com/wp-content/uploads/2021/08/attention_research_1.png\" alt=\"Alternative text\" width=\"400\" height=\"500\"/></center>\n",
        "<center><figcaption>Fig 2. Transformer Encoder.\"https://arxiv.org/pdf/2010.11929.pdf. </figcaption></center>  \n",
        "\n",
        "This is the challenging part of the assignment as it will be required from you to implement the main elements of an encoder block. A single block contains layer normalization (LN), multi-head self-attention (MHSA), and a residual connection.  \n",
        "\n",
        "### A) Layer Normalization\n",
        "[Layer normailzation](https://arxiv.org/abs/1607.06450), similar to other techniques, normalizes an input across the layer dimension by subtracting mean and dividing by standard deviation. You can instantiate layer normalization which has a dimension *d* using [PyTorch built-in function](https://pytorch.org/docs/stable/generated/torch.nn.LayerNorm.html).\n",
        "### B) MHSA\n",
        "<center><img src=\"https://production-media.paperswithcode.com/methods/multi-head-attention_l1A3G7a.png\" alt=\"Alternative text\" width=\"300\" height=\"400\"/></center>\n",
        "<center><figcaption>Fig 2. Multi-Head Self Attention.\"https://arxiv.org/pdf/1706.03762v5.pdf. </figcaption></center>  \n",
        "  \n",
        " The attention module derives an attention value by measuring similarity between one patch and the other patches. To this end, an image patch with dimension *d* is linearly mapped to three vectors; query **q**, key **k**, and value **v** , hence a distint linear layer should be instantiated to get each of the three vectors. To quantify attention for a single patch, first, the dot product is computed between its **q** and all of the **k** vectors and divide by the square root of the vector dimension i.e. *d* = 8. The result is passed through a softmax layer to get *attention features* and finally multiple with **v** vectors associated with each of the **k** vectors and sum up to get the result. This allows to get an attention vector for each patch by measuring its similarity with other patches.\n",
        "\n",
        "  Note that this process should be repeated **N** times on each of the **H** sub-vectors of the 8-dimensional patch, where **N** is the total number of attention blocks. In our case, let **N** = 2, hence, we have 2 sub-vectors, each of length 4. The first sub-vector is processed by the first head and the second sub-vector is process by the second head, each head has distinct Q,K, and V mapping functions of size 4x4.\n",
        "\n",
        " For more information about MHSA, you may refer to this [post](https://data-science-blog.com/blog/2021/04/07/multi-head-attention-mechanism/).\n",
        "\n",
        " It is highly recommended to define a seperate class for MHSA as it contains several operations.\n",
        "\n"
      ]
    },
    {
      "cell_type": "code",
      "execution_count": null,
      "metadata": {
        "id": "SSfm0cvO07mz"
      },
      "outputs": [],
      "source": [
        "class MHSA(nn.Module):\n",
        "    def __init__(self,d, n_heads=2): # d: dimension of embedding spacr, n_head: dimension of attention heads\n",
        "        super(MHSA, self).__init__()\n",
        "\n",
        "    def forward(self,sequences):\n",
        "        # Sequences has shape (N, seq_length, token_dim)\n",
        "        # Shape is transformed to   (N, seq_length, n_heads, token_dim / n_heads)\n",
        "        # And finally we return back    (N, seq_length, item_dim)  (through concatenation)\n",
        "        pass"
      ]
    },
    {
      "cell_type": "markdown",
      "metadata": {
        "id": "HyvETrke07mz"
      },
      "source": [
        "### C) Residual Connection\n",
        "\n",
        "Residual connections (also know as skip connections) add the original input to the processed output by a network layer e.g. encoder. They have proven to be useful in deep neural networks as they mitigate problems like exploding / vanishing gradients. In transformer, the residual connection is adding the original input to the output from LN &rarr; MHSA. All of the previous operations could be implemented inside a seperate encoder class.\n",
        "\n",
        "The last part of an encoder, is to a inser another residual connection between the input to the encoder and the output from the encoder passed through another layer of LN &rarr; MLP. The MLP consists of 2 layers with hidden size 4 times larger than *d*."
      ]
    },
    {
      "cell_type": "markdown",
      "metadata": {
        "id": "izFBeNsZ07m0"
      },
      "source": [
        "*output*: The output from a single encoder block should have the same dimension as input."
      ]
    },
    {
      "cell_type": "code",
      "execution_count": null,
      "metadata": {
        "id": "uBZqgLDk07m0"
      },
      "outputs": [],
      "source": [
        "class ViTEncoder(nn.Module):\n",
        "    def __init__(self, hidden_d, n_heads):\n",
        "        super(ViTEncoder, self).__init__()\n",
        "        self.hidden_d = hidden_d\n",
        "        self.n_heads = n_heads\n",
        "\n",
        "        self.norm1 = None # Add Layer-Norm\n",
        "        self.mhsa = MHSA(hidden_d, n_heads)\n",
        "        self.norm2 = None # Add another Layer-Norm\n",
        "        self.mlp = nn.Sequential(\n",
        "            nn.Linear(hidden_d, 4 * hidden_d),\n",
        "            nn.GELU(),\n",
        "            nn.Linear(4 * hidden_d, hidden_d)\n",
        "        )\n",
        "\n",
        "\n",
        "    def forward(self, x):\n",
        "        out = None #Residual connection here\n",
        "        out = out + self.mlp(self.norm2(out))\n",
        "        return out"
      ]
    },
    {
      "cell_type": "markdown",
      "metadata": {
        "id": "fJieZx4007m0"
      },
      "source": [
        "### C) Test Encoder\n",
        "It is highly recommended to test the encoder with a tensor of random values as input."
      ]
    },
    {
      "cell_type": "code",
      "execution_count": null,
      "metadata": {
        "id": "iOZ_yFR007m0"
      },
      "outputs": [],
      "source": [
        "if __name__ == '__main__':\n",
        "  model = ViTEncoder(hidden_d=8, n_heads=2)\n",
        "\n",
        "  x = torch.randn(7, 50, 8)\n",
        "  print(model(x).shape)"
      ]
    },
    {
      "cell_type": "markdown",
      "metadata": {
        "id": "6wvhHm8P07m0"
      },
      "source": [
        "## 4. Classification Head"
      ]
    },
    {
      "cell_type": "markdown",
      "metadata": {
        "id": "kIbNE57X07m0"
      },
      "source": [
        "The final part of implemeting a transformer is adding a classification head to the model inside *LightViT* class. You can simply use a linear classifier i.e. a linear layer that accepts input of dimension *d* and outputs logits with dimension set to the number of classes for the classification problem at hand."
      ]
    },
    {
      "cell_type": "markdown",
      "metadata": {
        "id": "DDmnpF9n07m0"
      },
      "source": [
        "## 5a. Model Train for MNIST"
      ]
    },
    {
      "cell_type": "markdown",
      "metadata": {
        "id": "zLCJKsbv07m1"
      },
      "source": [
        "At this point you have completed the major challenge of the assignment. Now all you need to do is to implement a standard script for training and testing the model. We recommend to use Adam optimizer with 0.005 learning rate and train for 5 epochs."
      ]
    },
    {
      "cell_type": "code",
      "execution_count": null,
      "metadata": {
        "id": "_6_IKAwG07m1"
      },
      "outputs": [],
      "source": [
        "## Define Dataloader\n",
        "\n",
        "## Define Model\n",
        "\n",
        "## Define Optimizer\n",
        "\n",
        "## Define Loss\n",
        "\n",
        "## Train\n",
        "\n",
        "## Test"
      ]
    },
    {
      "cell_type": "markdown",
      "metadata": {
        "id": "piDzQsUr07m1"
      },
      "source": [
        "## 5b. Model Training for FashionMNIST\n",
        "For this task you may reuse the LightViT transformer that you already implemented before. Plot the accuracies for various hyperparameters of $0.01,0.001,0.0001$ and select the besst performing model."
      ]
    }
  ],
  "metadata": {
    "language_info": {
      "name": "python"
    },
    "orig_nbformat": 4,
    "kernelspec": {
      "name": "python3",
      "language": "python",
      "display_name": "Python 3 (ipykernel)"
    },
    "colab": {
      "provenance": []
    }
  },
  "nbformat": 4,
  "nbformat_minor": 0
}